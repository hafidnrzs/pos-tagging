{
 "cells": [
  {
   "cell_type": "code",
   "execution_count": 1,
   "id": "ca56fc93",
   "metadata": {},
   "outputs": [],
   "source": [
    "# !pip install conllu stanza scikit-learn nltk"
   ]
  },
  {
   "cell_type": "code",
   "execution_count": 2,
   "id": "7908fb29",
   "metadata": {},
   "outputs": [],
   "source": [
    "import warnings\n",
    "warnings.filterwarnings('ignore')"
   ]
  },
  {
   "cell_type": "code",
   "execution_count": 3,
   "id": "d06cd9a3",
   "metadata": {},
   "outputs": [],
   "source": [
    "# IMPORT DAN PERSIAPAN\n",
    "\n",
    "import nltk\n",
    "from conllu import parse_incr\n",
    "import random\n",
    "import stanza\n",
    "import numpy as np\n",
    "import matplotlib.pyplot as plt\n",
    "import seaborn as sns\n",
    "from collections import Counter\n",
    "from sklearn.linear_model import LogisticRegression\n",
    "from sklearn.metrics import accuracy_score, confusion_matrix, classification_report\n",
    "from sklearn.feature_extraction import DictVectorizer\n",
    "import dill\n",
    "import joblib"
   ]
  },
  {
   "cell_type": "markdown",
   "id": "8697c710",
   "metadata": {},
   "source": [
    "# Pembuatan dan Evaluasi POS Tagger untuk Bahasa Inggris"
   ]
  },
  {
   "cell_type": "markdown",
   "id": "5c81bb07",
   "metadata": {},
   "source": [
    "## Load Data dan Eksplorasi\n",
    "\n",
    "🟦 **Dataset**:\n",
    "\n",
    "- Dataset menggunakan [UD English EWT](https://github.com/UniversalDependencies/UD_English-EWT/tree/master).\n",
    "- POS tags menggunakan Universal POS tags (UPOS).\n",
    "- Split: gunakan train, dev, test resmi dari UD untuk konsistensi riset.\n"
   ]
  },
  {
   "cell_type": "markdown",
   "id": "3c8450b0",
   "metadata": {},
   "source": [
    "**Universal POS tags**\n",
    "\n",
    "https://universaldependencies.org/u/pos/\n",
    "\n",
    "Terdapat 17 POS tag pada Universal POS tags yang terbagi menjadi open class, closed class, dan lainnya.\n",
    "\n",
    "| Open class words | Closed class words | Other   |\n",
    "|------------------|--------------------|---------|\n",
    "| ADJ              | ADP                | PUNCT   |\n",
    "| ADV              | AUX                | SYM     |\n",
    "| INTJ             | CCONJ              | X       |\n",
    "| NOUN             | DET                |         |\n",
    "| PROPN            | NUM                |         |\n",
    "| VERB             | PART               |         |\n",
    "|                  | PRON               |         |\n",
    "|                  | SCONJ              |         |\n",
    "\n"
   ]
  },
  {
   "cell_type": "code",
   "execution_count": 4,
   "id": "4da2f0d8",
   "metadata": {},
   "outputs": [],
   "source": [
    "# LOAD UD ENGLISH EWT\n",
    "\n",
    "# Fungsi load conllu jadi tagged_sents\n",
    "def load_ud_conllu(filepath):\n",
    "    sentences = []\n",
    "    with open(filepath, \"r\", encoding=\"utf-8\") as f:\n",
    "        for tokenlist in parse_incr(f):\n",
    "            sent = [(token['form'], token['upos']) for token in tokenlist if token['form'] is not None]\n",
    "            sentences.append(sent)\n",
    "    return sentences\n",
    "\n",
    "train_sents = load_ud_conllu(\"en_ewt-ud-train.conllu\")\n",
    "dev_sents = load_ud_conllu(\"en_ewt-ud-dev.conllu\")\n",
    "test_sents = load_ud_conllu(\"en_ewt-ud-test.conllu\")"
   ]
  },
  {
   "cell_type": "markdown",
   "id": "cd42a0f6",
   "metadata": {},
   "source": [
    "🟦 **Explorasi Dataset**\n",
    "\n",
    "- Contoh kalimat dan tagging.\n",
    "- Distribusi panjang kalimat.\n",
    "- Distribusi tag."
   ]
  },
  {
   "cell_type": "code",
   "execution_count": 5,
   "id": "aec34f43",
   "metadata": {},
   "outputs": [
    {
     "name": "stdout",
     "output_type": "stream",
     "text": [
      "Contoh kalimat:\n",
      "Kalimat: I work as a Transformational Life Coach .\n",
      "\n",
      "POS tags:\n",
      "- I : (PRON)\n",
      "- work : (VERB)\n",
      "- as : (ADP)\n",
      "- a : (DET)\n",
      "- Transformational : (ADJ)\n",
      "- Life : (NOUN)\n",
      "- Coach : (NOUN)\n",
      "- . : (PUNCT)\n"
     ]
    }
   ],
   "source": [
    "# EKSPLORASI DATASET\n",
    "\n",
    "# Satu contoh kalimat\n",
    "print(\"Contoh kalimat:\")\n",
    "random.seed(19)\n",
    "sample_sentence = random.choice(train_sents)\n",
    "print(\"Kalimat:\", \" \".join([word for word, tag in sample_sentence]))\n",
    "print(\"\\nPOS tags:\")\n",
    "for word, tag in sample_sentence:\n",
    "    print(f\"- {word} : ({tag})\")\n"
   ]
  },
  {
   "cell_type": "code",
   "execution_count": 6,
   "id": "6432e5dd",
   "metadata": {},
   "outputs": [
    {
     "data": {
      "image/png": "[encoded data removed]",
      "text/plain": [
       "<Figure size 640x480 with 1 Axes>"
      ]
     },
     "metadata": {},
     "output_type": "display_data"
    }
   ],
   "source": [
    "# Distribusi panjang kalimat\n",
    "sent_lengths = [len(sent) for sent in train_sents]\n",
    "plt.hist(sent_lengths, bins=50)\n",
    "plt.title(\"Distribusi Panjang Kalimat (Train Set)\")\n",
    "plt.xlabel(\"Panjang Kalimat\")\n",
    "plt.ylabel(\"Frekuensi\")\n",
    "plt.show()\n"
   ]
  },
  {
   "cell_type": "code",
   "execution_count": 7,
   "id": "203e6bb8",
   "metadata": {},
   "outputs": [
    {
     "name": "stdout",
     "output_type": "stream",
     "text": [
      "Tag unik (18): {'ADV', 'NOUN', 'AUX', 'ADJ', '_', 'PRON', 'NUM', 'INTJ', 'PART', 'PUNCT', 'SCONJ', 'PROPN', 'X', 'DET', 'VERB', 'ADP', 'CCONJ', 'SYM'}\n",
      "\n",
      "Distribusi tag (Top 10):\n",
      "- NOUN: 34751 (16.77%)\n",
      "- PUNCT: 23596 (11.39%)\n",
      "- VERB: 22603 (10.91%)\n",
      "- PRON: 18677 (9.01%)\n",
      "- ADP: 17748 (8.56%)\n",
      "- DET: 16299 (7.87%)\n",
      "- ADJ: 13138 (6.34%)\n",
      "- AUX: 12818 (6.19%)\n",
      "- PROPN: 12620 (6.09%)\n",
      "- ADV: 10167 (4.91%)\n"
     ]
    }
   ],
   "source": [
    "# Tag unik\n",
    "tags = [tag for sent in train_sents for (_, tag) in sent]\n",
    "print(f\"Tag unik ({len(set(tags))}): {set(tags)}\")\n",
    "\n",
    "print(\"\\nDistribusi tag (Top 10):\")\n",
    "top_tags = Counter(tags).most_common(10)\n",
    "for tag, count in top_tags:\n",
    "    print(f\"- {tag}: {count} ({count / len(tags) * 100:.2f}%)\")\n"
   ]
  },
  {
   "cell_type": "markdown",
   "id": "89e4ec37",
   "metadata": {},
   "source": [
    "## Model Training\n",
    "\n",
    "🟦 **Model Training**\n",
    "\n",
    "- HMM POS Tagger (NLTK).\n",
    "- Logistic Regression POS Tagger (scikit-learn)"
   ]
  },
  {
   "cell_type": "markdown",
   "id": "63808328",
   "metadata": {},
   "source": [
    "### Hidden Markov Model"
   ]
  },
  {
   "cell_type": "code",
   "execution_count": 8,
   "id": "b4ee4a33",
   "metadata": {},
   "outputs": [
    {
     "name": "stdout",
     "output_type": "stream",
     "text": [
      "Waktu training HMM POS Tagger: 0.28 detik\n"
     ]
    }
   ],
   "source": [
    "# TRAINING HMM POS TAGGER (NLTK)\n",
    "\n",
    "from nltk.tag.hmm import HiddenMarkovModelTrainer\n",
    "import time\n",
    "\n",
    "# Format data untuk HMM\n",
    "trainer = HiddenMarkovModelTrainer()\n",
    "\n",
    "start_time = time.time()\n",
    "hmm_tagger = trainer.train_supervised(train_sents)\n",
    "end_time = time.time()\n",
    "\n",
    "training_time_hmm = end_time - start_time\n",
    "print(f\"Waktu training HMM POS Tagger: {training_time_hmm:.2f} detik\")\n",
    "\n",
    "# Simpan model HMM menggunakan dill\n",
    "with open(\"hmm_pos_tagger.pkl\", \"wb\") as f:\n",
    "    dill.dump(hmm_tagger, f)\n"
   ]
  },
  {
   "cell_type": "code",
   "execution_count": 9,
   "id": "055ccace",
   "metadata": {},
   "outputs": [
    {
     "name": "stdout",
     "output_type": "stream",
     "text": [
      "HMM Accuracy (dev): 0.5737\n",
      "\n"
     ]
    }
   ],
   "source": [
    "# Load HMM model\n",
    "with open(\"hmm_pos_tagger.pkl\", \"rb\") as f:\n",
    "    hmm_tagger = dill.load(f)\n",
    "\n",
    "# Lihat akurasi HMM pada dev set\n",
    "y_true_dev = [tag for sent in dev_sents for (_, tag) in sent]\n",
    "y_pred_dev = [tag for sent in dev_sents for (_, tag) in hmm_tagger.tag([word for word, _ in sent])]\n",
    "hmm_accuracy_dev = accuracy_score(y_true_dev, y_pred_dev)\n",
    "print(f\"HMM Accuracy (dev): {hmm_accuracy_dev:.4f}\\n\")\n",
    "\n"
   ]
  },
  {
   "cell_type": "markdown",
   "id": "d34f9482",
   "metadata": {},
   "source": [
    "### Logistic Regression\n",
    "\n",
    "Logistic Regression tidak bisa menerima kata secara langsung, maka perlu:\n",
    "- Mengubah kata menjadi representasi numerik (One-Hot Encoding dari feature dictionary)\n",
    "\n",
    "🟦 **Feature Extraction**\n",
    "\n",
    "- word.lower(): agar insensitive terhadap casing. (`The` vs `the`)\n",
    "- word[-3:]: 3 huruf terakhir kata untuk menangkap suffix (`-ing`)\n",
    "- words[-2:]: 2 huruf terakhir dari kata untuk menangkap suffix (`-ed`, `ly`)\n",
    "- word.isupper(): menangkap seluruh huruf kapital, biasanya proper noun (`USA`, `NASA`)\n",
    "- word.istitle(): menangkap huruf pertama kapital, biasanya proper noun (`John`, `Jakarta`)\n",
    "- word.isdigit(): menangkap token dalam bentuk angka (`2025`, `123`)"
   ]
  },
  {
   "cell_type": "code",
   "execution_count": 10,
   "id": "c5381639",
   "metadata": {},
   "outputs": [],
   "source": [
    "# TRAINING LOGISTIC REGRESSION POS TAGGER (scikit-learn)\n",
    "\n",
    "# Feature Extractor\n",
    "def word2features(sent, i):\n",
    "    word = sent[i][0]\n",
    "    features = {\n",
    "        'bias': 1.0,\n",
    "        'word.lower()': word.lower(),\n",
    "        'word[-3:]': word[-3:],\n",
    "        'word[-2:]': word[-2:],\n",
    "        'word.isupper()': word.isupper(),\n",
    "        'word.istitle()': word.istitle(),\n",
    "        'word.isdigit()': word.isdigit(),\n",
    "    }\n",
    "    if i > 0:\n",
    "        word1 = sent[i-1][0]\n",
    "        features.update({\n",
    "            '-1:word.lower()': word1.lower(),\n",
    "        })\n",
    "    else:\n",
    "        features['BOS'] = True\n",
    "\n",
    "    if i < len(sent)-1:\n",
    "        word1 = sent[i+1][0]\n",
    "        features.update({\n",
    "            '+1:word.lower()': word1.lower(),\n",
    "        })\n",
    "    else:\n",
    "        features['EOS'] = True\n",
    "\n",
    "    return features\n",
    "\n",
    "def prepare_data(sents):\n",
    "    X, y = [], []\n",
    "    for sent in sents:\n",
    "        for i in range(len(sent)):\n",
    "            X.append(word2features(sent, i))\n",
    "            y.append(sent[i][1])\n",
    "    return X, y\n",
    "\n",
    "X_train, y_train = prepare_data(train_sents)\n",
    "X_dev, y_dev = prepare_data(dev_sents)\n",
    "\n",
    "# Vectorizer\n",
    "vec = DictVectorizer(sparse=True)\n"
   ]
  },
  {
   "cell_type": "code",
   "execution_count": 11,
   "id": "c490f51b",
   "metadata": {},
   "outputs": [
    {
     "name": "stdout",
     "output_type": "stream",
     "text": [
      "Waktu training Logistic Regression POS Tagger: 36.53 detik\n"
     ]
    },
    {
     "data": {
      "text/plain": [
       "['logreg_pos_tagger.pkl']"
      ]
     },
     "execution_count": 11,
     "metadata": {},
     "output_type": "execute_result"
    }
   ],
   "source": [
    "import time\n",
    "\n",
    "# Model Training\n",
    "X_train_vec = vec.fit_transform(X_train)\n",
    "X_dev_vec = vec.transform(X_dev)\n",
    "\n",
    "logreg = LogisticRegression(max_iter=200)\n",
    "start_time = time.time()\n",
    "logreg.fit(X_train_vec, y_train)\n",
    "end_time = time.time()\n",
    "\n",
    "training_time_logreg = end_time - start_time\n",
    "print(f\"Waktu training Logistic Regression POS Tagger: {training_time_logreg:.2f} detik\")\n",
    "\n",
    "# Simpan model Logistic Regression\n",
    "joblib.dump(logreg, \"logreg_pos_tagger.pkl\")\n"
   ]
  },
  {
   "cell_type": "code",
   "execution_count": 12,
   "id": "9ef57dfc",
   "metadata": {},
   "outputs": [
    {
     "name": "stdout",
     "output_type": "stream",
     "text": [
      "Logistic Regression Accuracy (dev): 0.9324\n"
     ]
    }
   ],
   "source": [
    "# Load model Logistic Regression\n",
    "logreg = joblib.load(\"logreg_pos_tagger.pkl\")\n",
    "\n",
    "# Lihat akurasi Logistic Regression pada dev set\n",
    "y_pred_dev = logreg.predict(X_dev_vec)\n",
    "logreg_accuracy_dev = accuracy_score(y_dev, y_pred_dev)\n",
    "print(f\"Logistic Regression Accuracy (dev): {logreg_accuracy_dev:.4f}\")"
   ]
  },
  {
   "cell_type": "markdown",
   "id": "32a52769",
   "metadata": {},
   "source": [
    "## Evaluasi\n",
    "\n",
    "🟦 Evaluasi:\n",
    "\n",
    "- Accuracy keseluruhan.\n",
    "- Classification Report: Precision, Recall, F1 tiap tag.\n",
    "- Confusion Matrix.\n",
    "\n",
    "🟦 Prediction Testing:\n",
    "\n",
    "- Pilih 1 kalimat acak dari data testing.\n",
    "- Predict POS tag dengan HMM dan Logistic Regression."
   ]
  },
  {
   "cell_type": "code",
   "execution_count": 13,
   "id": "6a376024",
   "metadata": {},
   "outputs": [
    {
     "name": "stdout",
     "output_type": "stream",
     "text": [
      "✅ HMM berhasil dimuat: <class 'nltk.tag.hmm.HiddenMarkovModelTagger'>\n",
      "✅ Logistic Regression berhasil dimuat: <class 'sklearn.linear_model._logistic.LogisticRegression'>\n"
     ]
    }
   ],
   "source": [
    "with open(\"hmm_pos_tagger.pkl\", \"rb\") as f:\n",
    "    hmm_tagger = dill.load(f)\n",
    "    print(\"✅ HMM berhasil dimuat:\", type(hmm_tagger))\n",
    "\n",
    "\n",
    "logreg = joblib.load(\"logreg_pos_tagger.pkl\")\n",
    "print(\"✅ Logistic Regression berhasil dimuat:\", type(logreg))\n",
    "\n",
    "def evaluate_on_dataset(dataset_sents, dataset_name, model_type=\"hmm\"):\n",
    "    y_true = []\n",
    "    y_pred = []\n",
    "\n",
    "    for sent in dataset_sents:\n",
    "        tokens = [word for word, tag in sent]\n",
    "        true_tags = [tag for word, tag in sent]\n",
    "\n",
    "        if model_type == \"hmm\":\n",
    "            pred_tags = [tag for word, tag in hmm_tagger.tag(tokens)]\n",
    "        elif model_type == \"logreg\":\n",
    "            # Extract features for logistic regression\n",
    "            test_feats = [word2features(sent, i) for i in range(len(tokens))]\n",
    "            X_test_vec = vec.transform(test_feats)\n",
    "            pred_tags = logreg.predict(X_test_vec)\n",
    "        else:\n",
    "            raise ValueError(\"model_type must be 'hmm' or 'logreg'\")\n",
    "\n",
    "        y_true.extend(true_tags)\n",
    "        y_pred.extend(pred_tags)\n",
    "\n",
    "    accuracy = accuracy_score(y_true, y_pred)\n",
    "    print(f\"{model_type.upper()} Accuracy {dataset_name}: {accuracy:.4f}\")\n",
    "\n",
    "    print(f\"\\n{model_type.upper()} Classification Report {dataset_name}:\\n\")\n",
    "    print(classification_report(y_true, y_pred, zero_division=0))\n",
    "\n",
    "    return y_true, y_pred, accuracy\n"
   ]
  },
  {
   "cell_type": "markdown",
   "id": "8bf7cbc2",
   "metadata": {},
   "source": [
    "### Evaluasi Hidden Markov Model"
   ]
  },
  {
   "cell_type": "code",
   "execution_count": 14,
   "id": "ab4aa6e7",
   "metadata": {},
   "outputs": [
    {
     "name": "stdout",
     "output_type": "stream",
     "text": [
      "HMM Accuracy (test): 0.5688\n",
      "\n",
      "HMM Classification Report (test):\n",
      "\n",
      "              precision    recall  f1-score   support\n",
      "\n",
      "         ADJ       0.93      0.53      0.67      1788\n",
      "         ADP       0.92      0.49      0.64      2029\n",
      "         ADV       0.90      0.57      0.70      1191\n",
      "         AUX       0.92      0.64      0.76      1543\n",
      "       CCONJ       0.99      0.50      0.66       736\n",
      "         DET       0.98      0.61      0.75      1897\n",
      "        INTJ       0.95      0.74      0.83       121\n",
      "        NOUN       0.95      0.44      0.60      4123\n",
      "         NUM       0.94      0.28      0.43       542\n",
      "        PART       0.95      0.61      0.74       649\n",
      "        PRON       0.98      0.70      0.82      2165\n",
      "       PROPN       0.16      0.97      0.28      2075\n",
      "       PUNCT       1.00      0.45      0.62      3096\n",
      "       SCONJ       0.81      0.48      0.60       384\n",
      "         SYM       0.92      0.31      0.47       109\n",
      "        VERB       0.94      0.58      0.72      2606\n",
      "           X       0.33      0.02      0.04        42\n",
      "           _       0.98      0.64      0.77       354\n",
      "\n",
      "    accuracy                           0.57     25450\n",
      "   macro avg       0.86      0.53      0.62     25450\n",
      "weighted avg       0.88      0.57      0.64     25450\n",
      "\n"
     ]
    },
    {
     "data": {
      "image/png": "[encoded data removed]",
      "text/plain": [
       "<Figure size 1200x1000 with 1 Axes>"
      ]
     },
     "metadata": {},
     "output_type": "display_data"
    }
   ],
   "source": [
    "# EVALUASI HMM TAGGER PADA TEST SET\n",
    "y_true_test, y_pred_test, hmm_accuracy_test = evaluate_on_dataset(test_sents, \"(test)\", model_type=\"hmm\")\n",
    "\n",
    "# Confusion Matrix pada TEST SET\n",
    "cm = confusion_matrix(y_true_test, y_pred_test, labels=np.unique(y_true_test))\n",
    "\n",
    "plt.figure(figsize=(12, 10))\n",
    "sns.heatmap(\n",
    "    cm,\n",
    "    xticklabels=np.unique(y_true_test),\n",
    "    yticklabels=np.unique(y_true_test),\n",
    "    cmap=\"Blues\",\n",
    "    annot=True,\n",
    "    fmt='d',\n",
    "    cbar=False\n",
    ")\n",
    "plt.xlabel(\"Predicted Tag\")\n",
    "plt.ylabel(\"True Tag\")\n",
    "plt.title(\"Confusion Matrix HMM POS Tagger (test)\")\n",
    "plt.show()"
   ]
  },
  {
   "cell_type": "markdown",
   "id": "2aa16372",
   "metadata": {},
   "source": [
    "### Evaluasi Logistic Regression"
   ]
  },
  {
   "cell_type": "code",
   "execution_count": 15,
   "id": "566107c8",
   "metadata": {},
   "outputs": [
    {
     "name": "stdout",
     "output_type": "stream",
     "text": [
      "LOGREG Accuracy (test): 0.9334\n",
      "\n",
      "LOGREG Classification Report (test):\n",
      "\n",
      "              precision    recall  f1-score   support\n",
      "\n",
      "         ADJ       0.92      0.87      0.89      1788\n",
      "         ADP       0.93      0.96      0.94      2029\n",
      "         ADV       0.91      0.90      0.91      1191\n",
      "         AUX       0.97      0.98      0.98      1543\n",
      "       CCONJ       0.99      0.99      0.99       736\n",
      "         DET       0.98      0.98      0.98      1897\n",
      "        INTJ       0.99      0.77      0.87       121\n",
      "        NOUN       0.87      0.91      0.89      4123\n",
      "         NUM       0.94      0.90      0.92       542\n",
      "        PART       0.93      0.99      0.96       649\n",
      "        PRON       0.98      0.98      0.98      2165\n",
      "       PROPN       0.85      0.83      0.84      2075\n",
      "       PUNCT       0.99      0.99      0.99      3096\n",
      "       SCONJ       0.88      0.73      0.80       384\n",
      "         SYM       0.82      0.84      0.83       109\n",
      "        VERB       0.94      0.94      0.94      2606\n",
      "           X       0.92      0.26      0.41        42\n",
      "           _       0.98      0.94      0.96       354\n",
      "\n",
      "    accuracy                           0.93     25450\n",
      "   macro avg       0.93      0.88      0.89     25450\n",
      "weighted avg       0.93      0.93      0.93     25450\n",
      "\n"
     ]
    },
    {
     "data": {
      "image/png": "[encoded data removed]",
      "text/plain": [
       "<Figure size 1200x1000 with 1 Axes>"
      ]
     },
     "metadata": {},
     "output_type": "display_data"
    }
   ],
   "source": [
    "# EVALUASI LOGISTIC REGRESSION TAGGER PADA TEST SET\n",
    "y_true_test_logreg, y_pred_test_logreg, logreg_accuracy_test = evaluate_on_dataset(test_sents, \"(test)\", model_type=\"logreg\")\n",
    "\n",
    "# Confusion Matrix pada TEST SET\n",
    "cm_logreg = confusion_matrix(y_true_test_logreg, y_pred_test_logreg, labels=np.unique(y_true_test_logreg))\n",
    "\n",
    "plt.figure(figsize=(12, 10))\n",
    "sns.heatmap(\n",
    "    cm_logreg,\n",
    "    xticklabels=np.unique(y_true_test_logreg),\n",
    "    yticklabels=np.unique(y_true_test_logreg),\n",
    "    cmap=\"Greens\",\n",
    "    annot=True,\n",
    "    fmt='d',\n",
    "    cbar=False\n",
    ")\n",
    "plt.xlabel(\"Predicted Tag\")\n",
    "plt.ylabel(\"True Tag\")\n",
    "plt.title(\"Confusion Matrix Logistic Regression POS Tagger (test)\")\n",
    "plt.show()"
   ]
  },
  {
   "cell_type": "code",
   "execution_count": 16,
   "id": "efd31eb9",
   "metadata": {},
   "outputs": [
    {
     "data": {
      "application/vnd.microsoft.datawrangler.viewer.v0+json": {
       "columns": [
        {
         "name": "index",
         "rawType": "int64",
         "type": "integer"
        },
        {
         "name": "Model",
         "rawType": "object",
         "type": "string"
        },
        {
         "name": "Accuracy (dev)",
         "rawType": "object",
         "type": "string"
        },
        {
         "name": "Accuracy (test)",
         "rawType": "object",
         "type": "string"
        },
        {
         "name": "Training Time (s)",
         "rawType": "float64",
         "type": "float"
        }
       ],
       "ref": "9f6358e6-06ad-4823-9776-6d7f0bf097d6",
       "rows": [
        [
         "0",
         "HMM POS Tagger",
         "57.37%",
         "56.88%",
         "0.282"
        ],
        [
         "1",
         "Logistic Regression POS Tagger",
         "93.24%",
         "93.34%",
         "36.531"
        ]
       ],
       "shape": {
        "columns": 4,
        "rows": 2
       }
      },
      "text/html": [
       "<div>\n",
       "<style scoped>\n",
       "    .dataframe tbody tr th:only-of-type {\n",
       "        vertical-align: middle;\n",
       "    }\n",
       "\n",
       "    .dataframe tbody tr th {\n",
       "        vertical-align: top;\n",
       "    }\n",
       "\n",
       "    .dataframe thead th {\n",
       "        text-align: right;\n",
       "    }\n",
       "</style>\n",
       "<table border=\"1\" class=\"dataframe\">\n",
       "  <thead>\n",
       "    <tr style=\"text-align: right;\">\n",
       "      <th></th>\n",
       "      <th>Model</th>\n",
       "      <th>Accuracy (dev)</th>\n",
       "      <th>Accuracy (test)</th>\n",
       "      <th>Training Time (s)</th>\n",
       "    </tr>\n",
       "  </thead>\n",
       "  <tbody>\n",
       "    <tr>\n",
       "      <th>0</th>\n",
       "      <td>HMM POS Tagger</td>\n",
       "      <td>57.37%</td>\n",
       "      <td>56.88%</td>\n",
       "      <td>0.282</td>\n",
       "    </tr>\n",
       "    <tr>\n",
       "      <th>1</th>\n",
       "      <td>Logistic Regression POS Tagger</td>\n",
       "      <td>93.24%</td>\n",
       "      <td>93.34%</td>\n",
       "      <td>36.531</td>\n",
       "    </tr>\n",
       "  </tbody>\n",
       "</table>\n",
       "</div>"
      ],
      "text/plain": [
       "                            Model Accuracy (dev) Accuracy (test)  \\\n",
       "0                  HMM POS Tagger         57.37%          56.88%   \n",
       "1  Logistic Regression POS Tagger         93.24%          93.34%   \n",
       "\n",
       "   Training Time (s)  \n",
       "0              0.282  \n",
       "1             36.531  "
      ]
     },
     "execution_count": 16,
     "metadata": {},
     "output_type": "execute_result"
    }
   ],
   "source": [
    "# REKAP HASIL\n",
    "\n",
    "import pandas as pd\n",
    "\n",
    "results = {\n",
    "    \"Model\": [\"HMM POS Tagger\", \"Logistic Regression POS Tagger\"],\n",
    "    \"Accuracy (dev)\": [f\"{hmm_accuracy_dev*100:.2f}%\", f\"{logreg_accuracy_dev*100:.2f}%\"],\n",
    "    \"Accuracy (test)\": [f\"{hmm_accuracy_test*100:.2f}%\", f\"{logreg_accuracy_test*100:.2f}%\"],\n",
    "    \"Training Time (s)\": [round(training_time_hmm, 3), round(training_time_logreg, 3)],\n",
    "}\n",
    "results_df = pd.DataFrame(results)\n",
    "results_df"
   ]
  },
  {
   "cell_type": "markdown",
   "id": "eb2e10cc",
   "metadata": {},
   "source": [
    "## Analisis Kesalahan\n",
    "\n",
    "🟦 Analisis Kesalahan\n",
    "\n",
    "- Pilih satu kalimat acak dari test set.\n",
    "- Prediksi dengan HMM, Logistic Regression, dan model pretrained (Stanza).\n",
    "- Bandingkan dengan POS tag sebenarnya."
   ]
  },
  {
   "cell_type": "code",
   "execution_count": 17,
   "id": "3f97ad2a",
   "metadata": {},
   "outputs": [],
   "source": [
    "# Init Stanza\n",
    "# stanza.download('en')"
   ]
  },
  {
   "cell_type": "code",
   "execution_count": 18,
   "id": "6adddf2e",
   "metadata": {},
   "outputs": [
    {
     "name": "stderr",
     "output_type": "stream",
     "text": [
      "2025-07-03 20:20:05 INFO: Checking for updates to resources.json in case models have been updated.  Note: this behavior can be turned off with download_method=None or download_method=DownloadMethod.REUSE_RESOURCES\n",
      "Downloading https://raw.githubusercontent.com/stanfordnlp/stanza-resources/main/resources_1.10.0.json: 432kB [00:00, 15.1MB/s]                    \n",
      "2025-07-03 20:20:06 INFO: Downloaded file to C:\\Users\\hafid\\stanza_resources\\resources.json\n",
      "2025-07-03 20:20:06 INFO: Loading these models for language: en (English):\n",
      "===============================\n",
      "| Processor | Package         |\n",
      "-------------------------------\n",
      "| tokenize  | combined        |\n",
      "| pos       | combined_charlm |\n",
      "===============================\n",
      "\n",
      "2025-07-03 20:20:06 INFO: Using device: cpu\n",
      "2025-07-03 20:20:06 INFO: Loading: tokenize\n",
      "2025-07-03 20:20:06 INFO: Loading: pos\n",
      "2025-07-03 20:20:10 INFO: Done loading processors!\n"
     ]
    }
   ],
   "source": [
    "# ANALISIS KESALAHAN\n",
    "\n",
    "# Pilih satu kalimat secara random dari test set\n",
    "random.seed(3)\n",
    "sample_test_sent = random.choice(test_sents)\n",
    "\n",
    "# Prediksi dengan HMM\n",
    "tokens_sample = [word for word, _ in sample_test_sent]\n",
    "hmm_pred = hmm_tagger.tag(tokens_sample)\n",
    "hmm_tags_only = [tag for word, tag in hmm_pred]\n",
    "\n",
    "# Prediksi dengan Logistic Regression\n",
    "sample_feats = [word2features(sample_test_sent, i) for i in range(len(tokens_sample))]\n",
    "X_sample_vec = vec.transform(sample_feats)\n",
    "logreg_pred = logreg.predict(X_sample_vec)\n",
    "\n",
    "# Prediksi dengan Stanza (pretrained model)\n",
    "nlp = stanza.Pipeline(lang='en', processors='tokenize,pos', tokenize_pretokenized=True)\n",
    "doc = nlp([tokens_sample])\n",
    "stanza_tags = [word.upos for sent in doc.sentences for word in sent.words]\n",
    "\n",
    "# True tags\n",
    "true_tags = [tag for _, tag in sample_test_sent]\n"
   ]
  },
  {
   "cell_type": "code",
   "execution_count": 19,
   "id": "c35b1bd3",
   "metadata": {},
   "outputs": [
    {
     "name": "stdout",
     "output_type": "stream",
     "text": [
      "\n",
      "Kalimat yang dipilih:\n",
      "Microsoft is 4 - 0 ( they took down Netscape , Suns Systems , MAC and IBM ) and Google may be their next target .\n",
      "\n",
      "Panjang kalimat: 26 kata\n",
      "\n",
      "================================================================================\n",
      "PERBANDINGAN HASIL POS TAGGING\n",
      "================================================================================\n",
      "No  Word         True     HMM      LogReg   Stanza   HMM_OK  LogReg_OK Stanza_OK\n",
      "--------------------------------------------------------------------------------\n",
      "1   Microsoft    PROPN    PROPN    PROPN    PROPN    ✓       ✓         ✓\n",
      "2   is           AUX      AUX      AUX      AUX      ✓       ✓         ✓\n",
      "3   4            NUM      NUM      NUM      NUM      ✓       ✓         ✓\n",
      "4   -            SYM      SYM      PUNCT    SYM      ✓       ✗         ✓\n",
      "5   0            NUM      NUM      NUM      NUM      ✓       ✓         ✓\n",
      "6   (            PUNCT    PUNCT    PUNCT    PUNCT    ✓       ✓         ✓\n",
      "7   they         PRON     PRON     PRON     PRON     ✓       ✓         ✓\n",
      "8   took         VERB     VERB     VERB     VERB     ✓       ✓         ✓\n",
      "9   down         ADP      ADP      ADP      ADP      ✓       ✓         ✓\n",
      "10  Netscape     PROPN    PROPN    PROPN    PROPN    ✓       ✓         ✓\n",
      "11  ,            PUNCT    PROPN    PUNCT    PUNCT    ✗       ✓         ✓\n",
      "12  Suns         PROPN    PROPN    PROPN    PROPN    ✓       ✓         ✓\n",
      "13  Systems      PROPN    PROPN    PROPN    PROPN    ✓       ✓         ✓\n",
      "14  ,            PUNCT    PROPN    PUNCT    PUNCT    ✗       ✓         ✓\n",
      "15  MAC          PROPN    PROPN    NOUN     PROPN    ✓       ✗         ✓\n",
      "16  and          CCONJ    PROPN    CCONJ    CCONJ    ✗       ✓         ✓\n",
      "17  IBM          PROPN    PROPN    PROPN    PROPN    ✓       ✓         ✓\n",
      "18  )            PUNCT    PROPN    PUNCT    PUNCT    ✗       ✓         ✓\n",
      "19  and          CCONJ    PROPN    CCONJ    CCONJ    ✗       ✓         ✓\n",
      "20  Google       PROPN    PROPN    PROPN    PROPN    ✓       ✓         ✓\n",
      "21  may          AUX      PROPN    AUX      AUX      ✗       ✓         ✓\n",
      "22  be           AUX      PROPN    AUX      AUX      ✗       ✓         ✓\n",
      "23  their        PRON     PROPN    PRON     PRON     ✗       ✓         ✓\n",
      "24  next         ADJ      PROPN    ADJ      ADJ      ✗       ✓         ✓\n",
      "25  target       NOUN     PROPN    NOUN     NOUN     ✗       ✓         ✓\n",
      "26  .            PUNCT    PROPN    PUNCT    PUNCT    ✗       ✓         ✓\n",
      "--------------------------------------------------------------------------------\n",
      "AKURASI pada kalimat ini:\n",
      "HMM: 15/26 = 57.7%\n",
      "LogReg: 24/26 = 92.3%\n",
      "Stanza: 26/26 = 100.0%\n"
     ]
    }
   ],
   "source": [
    "# PERBANDINGAN HASIL POS TAGGING\n",
    "print(\"\\nKalimat yang dipilih:\")\n",
    "print(\" \".join(tokens_sample))\n",
    "print(\"\\nPanjang kalimat:\", len(tokens_sample), \"kata\")\n",
    "\n",
    "print(\"\\n\" + \"=\" * 80)\n",
    "print(\"PERBANDINGAN HASIL POS TAGGING\")\n",
    "print(\"=\" * 80)\n",
    "\n",
    "print(f\"{'No':<3} {'Word':<12} {'True':<8} {'HMM':<8} {'LogReg':<8} {'Stanza':<8} {'HMM_OK':<7} {'LogReg_OK':<9} {'Stanza_OK'}\")\n",
    "print(\"-\" * 80)\n",
    "\n",
    "hmm_correct = 0\n",
    "logreg_correct = 0\n",
    "stanza_correct = 0\n",
    "\n",
    "for i, word in enumerate(tokens_sample):\n",
    "    true_tag = true_tags[i]\n",
    "    hmm_tag = hmm_tags_only[i]\n",
    "    logreg_tag = logreg_pred[i]\n",
    "    stanza_tag = stanza_tags[i]\n",
    "    \n",
    "    hmm_match = \"✓\" if hmm_tag == true_tag else \"✗\"\n",
    "    logreg_match = \"✓\" if logreg_tag == true_tag else \"✗\"\n",
    "    stanza_match = \"✓\" if stanza_tag == true_tag else \"✗\"\n",
    "    \n",
    "    if hmm_tag == true_tag:\n",
    "        hmm_correct += 1\n",
    "    if logreg_tag == true_tag:\n",
    "        logreg_correct += 1\n",
    "    if stanza_tag == true_tag:\n",
    "        stanza_correct += 1\n",
    "    \n",
    "    print(f\"{i+1:<3} {word:<12} {true_tag:<8} {hmm_tag:<8} {logreg_tag:<8} {stanza_tag:<8} {hmm_match:<7} {logreg_match:<9} {stanza_match}\")\n",
    "\n",
    "print(\"-\" * 80)\n",
    "print(\"AKURASI pada kalimat ini:\")\n",
    "print(f\"HMM: {hmm_correct}/{len(tokens_sample)} = {hmm_correct/len(tokens_sample)*100:.1f}%\")\n",
    "print(f\"LogReg: {logreg_correct}/{len(tokens_sample)} = {logreg_correct/len(tokens_sample)*100:.1f}%\")\n",
    "print(f\"Stanza: {stanza_correct}/{len(tokens_sample)} = {stanza_correct/len(tokens_sample)*100:.1f}%\")\n",
    "\n"
   ]
  },
  {
   "cell_type": "code",
   "execution_count": 20,
   "id": "96017277",
   "metadata": {},
   "outputs": [
    {
     "name": "stdout",
     "output_type": "stream",
     "text": [
      "\n",
      "================================================================================\n",
      "ANALISIS KESALAHAN\n",
      "================================================================================\n",
      "\n",
      "Kalimat yang dipilih:\n",
      "Microsoft is 4 - 0 ( they took down Netscape , Suns Systems , MAC and IBM ) and Google may be their next target .\n",
      "\n",
      "Kesalahan HMM (11 kesalahan):\n",
      "  - ',': seharusnya PUNCT, diprediksi PROPN\n",
      "  - ',': seharusnya PUNCT, diprediksi PROPN\n",
      "  - 'and': seharusnya CCONJ, diprediksi PROPN\n",
      "  - ')': seharusnya PUNCT, diprediksi PROPN\n",
      "  - 'and': seharusnya CCONJ, diprediksi PROPN\n",
      "  - 'may': seharusnya AUX, diprediksi PROPN\n",
      "  - 'be': seharusnya AUX, diprediksi PROPN\n",
      "  - 'their': seharusnya PRON, diprediksi PROPN\n",
      "  - 'next': seharusnya ADJ, diprediksi PROPN\n",
      "  - 'target': seharusnya NOUN, diprediksi PROPN\n",
      "  - '.': seharusnya PUNCT, diprediksi PROPN\n",
      "\n",
      "Kesalahan LogReg (2 kesalahan):\n",
      "  - '-': seharusnya SYM, diprediksi PUNCT\n",
      "  - 'MAC': seharusnya PROPN, diprediksi NOUN\n",
      "\n",
      "Kesalahan Stanza (0 kesalahan):\n",
      "✅ Stanza: Sempurna! Semua tag benar.\n"
     ]
    }
   ],
   "source": [
    "print(\"\\n\" + \"=\" * 80)\n",
    "print(\"ANALISIS KESALAHAN\")\n",
    "print(\"=\" * 80)\n",
    "\n",
    "print(\"\\nKalimat yang dipilih:\")\n",
    "print(\" \".join(tokens_sample))\n",
    "\n",
    "errors_hmm = [(i, tokens_sample[i], true_tags[i], hmm_tags_only[i]) \n",
    "              for i in range(len(tokens_sample)) if hmm_tags_only[i] != true_tags[i]]\n",
    "errors_logreg = [(i, tokens_sample[i], true_tags[i], logreg_pred[i]) \n",
    "                 for i in range(len(tokens_sample)) if logreg_pred[i] != true_tags[i]]\n",
    "errors_stanza = [(i, tokens_sample[i], true_tags[i], stanza_tags[i]) \n",
    "                 for i in range(len(tokens_sample)) if stanza_tags[i] != true_tags[i]]\n",
    "\n",
    "print(f\"\\nKesalahan HMM ({len(errors_hmm)} kesalahan):\")\n",
    "for pos, word, true_tag, pred_tag in errors_hmm:\n",
    "    print(f\"  - '{word}': seharusnya {true_tag}, diprediksi {pred_tag}\")\n",
    "\n",
    "print(f\"\\nKesalahan LogReg ({len(errors_logreg)} kesalahan):\")\n",
    "for pos, word, true_tag, pred_tag in errors_logreg:\n",
    "    print(f\"  - '{word}': seharusnya {true_tag}, diprediksi {pred_tag}\")\n",
    "\n",
    "print(f\"\\nKesalahan Stanza ({len(errors_stanza)} kesalahan):\")\n",
    "for pos, word, true_tag, pred_tag in errors_stanza:\n",
    "    print(f\"  - '{word}': seharusnya {true_tag}, diprediksi {pred_tag}\")\n",
    "\n",
    "if len(errors_hmm) == 0:\n",
    "    print(\"✅ HMM: Sempurna! Semua tag benar.\")\n",
    "if len(errors_logreg) == 0:\n",
    "    print(\"✅ LogReg: Sempurna! Semua tag benar.\")\n",
    "if len(errors_stanza) == 0:\n",
    "    print(\"✅ Stanza: Sempurna! Semua tag benar.\")"
   ]
  },
  {
   "cell_type": "markdown",
   "id": "e413d0ce",
   "metadata": {},
   "source": [
    "## Visualisasi\n",
    "\n",
    "🟦 Visualisasi POS tagging\n",
    "\n",
    "- Gunakan displaCy untuk menampilkan POS tag.\n",
    "- Visualisasi hubungan dependensi antarkata"
   ]
  },
  {
   "cell_type": "markdown",
   "id": "514a8504",
   "metadata": {},
   "source": [
    "Label-label hubungan dependensi yang digunakan spaCy mengikuti standar dari proyek Universal Dependencies (UD).\n",
    "\n",
    "https://universaldependencies.org/u/dep/\n",
    "\n",
    "|                     | Nominals     | Clauses   | Modifier words | Function Words |\n",
    "|---------------------|--------------|-----------|----------------|----------------|\n",
    "| Core arguments      | nsubj        | csubj     |                |                |\n",
    "|                     | obj          | ccomp     |                |                |\n",
    "|                     | iobj         | xcomp     |                |                |\n",
    "| Non-core dependents | obl          | advcl     | advmod         | aux            |\n",
    "|                     | vocative     |           | discourse      | cop            |\n",
    "|                     | expl         |           |                | mark           |\n",
    "|                     | dislocated   |           |                |                |\n",
    "| Nominal dependents  | nmod         | acl       | amod           | det            |\n",
    "|                     | appos        |           |                | clf            |\n",
    "|                     | nummod       |           |                | case           |\n",
    "| **Coordination**    | **Headless** | **Loose** | **Special**    | **Other**      |\n",
    "| conj                | fixed        | list      | compound       | punct          |\n",
    "| cc                  | flat         | parataxis | orphan         | root           |\n",
    "|                     |              |           | goeswith       | dep            |\n",
    "|                     |              |           | reparandum     |                |"
   ]
  },
  {
   "cell_type": "code",
   "execution_count": 21,
   "id": "79f2b8e9",
   "metadata": {},
   "outputs": [],
   "source": [
    "# !python -m spacy download en_core_web_sm"
   ]
  },
  {
   "cell_type": "code",
   "execution_count": 22,
   "id": "96e4be90",
   "metadata": {},
   "outputs": [
    {
     "data": {
      "text/html": [
       "<span class=\"tex2jax_ignore\"><svg xmlns=\"http://www.w3.org/2000/svg\" xmlns:xlink=\"http://www.w3.org/1999/xlink\" xml:lang=\"en\" id=\"92604ef707284dc581a1ac522eb4f4bc-0\" class=\"displacy\" width=\"800\" height=\"287.0\" direction=\"ltr\" style=\"max-width: none; height: 287.0px; color: #000000; background: #ffffff; font-family: Arial; direction: ltr\">\n",
       "<text class=\"displacy-token\" fill=\"currentColor\" text-anchor=\"middle\" y=\"197.0\">\n",
       "    <tspan class=\"displacy-word\" fill=\"currentColor\" x=\"50\">Key</tspan>\n",
       "    <tspan class=\"displacy-tag\" dy=\"2em\" fill=\"currentColor\" x=\"50\">PROPN</tspan>\n",
       "</text>\n",
       "\n",
       "<text class=\"displacy-token\" fill=\"currentColor\" text-anchor=\"middle\" y=\"197.0\">\n",
       "    <tspan class=\"displacy-word\" fill=\"currentColor\" x=\"200\">Delhi</tspan>\n",
       "    <tspan class=\"displacy-tag\" dy=\"2em\" fill=\"currentColor\" x=\"200\">PROPN</tspan>\n",
       "</text>\n",
       "\n",
       "<text class=\"displacy-token\" fill=\"currentColor\" text-anchor=\"middle\" y=\"197.0\">\n",
       "    <tspan class=\"displacy-word\" fill=\"currentColor\" x=\"350\">blast</tspan>\n",
       "    <tspan class=\"displacy-tag\" dy=\"2em\" fill=\"currentColor\" x=\"350\">NOUN</tspan>\n",
       "</text>\n",
       "\n",
       "<text class=\"displacy-token\" fill=\"currentColor\" text-anchor=\"middle\" y=\"197.0\">\n",
       "    <tspan class=\"displacy-word\" fill=\"currentColor\" x=\"500\">suspect</tspan>\n",
       "    <tspan class=\"displacy-tag\" dy=\"2em\" fill=\"currentColor\" x=\"500\">NOUN</tspan>\n",
       "</text>\n",
       "\n",
       "<text class=\"displacy-token\" fill=\"currentColor\" text-anchor=\"middle\" y=\"197.0\">\n",
       "    <tspan class=\"displacy-word\" fill=\"currentColor\" x=\"650\">arrested</tspan>\n",
       "    <tspan class=\"displacy-tag\" dy=\"2em\" fill=\"currentColor\" x=\"650\">VERB</tspan>\n",
       "</text>\n",
       "\n",
       "<g class=\"displacy-arrow\">\n",
       "    <path class=\"displacy-arc\" id=\"arrow-92604ef707284dc581a1ac522eb4f4bc-0-0\" stroke-width=\"2px\" d=\"M62,152.0 62,127.0 197.0,127.0 197.0,152.0\" fill=\"none\" stroke=\"currentColor\"/>\n",
       "    <text dy=\"1.25em\" style=\"font-size: 0.8em; letter-spacing: 1px\">\n",
       "        <textPath xlink:href=\"#arrow-92604ef707284dc581a1ac522eb4f4bc-0-0\" class=\"displacy-label\" startOffset=\"50%\" side=\"left\" fill=\"currentColor\" text-anchor=\"middle\">compound</textPath>\n",
       "    </text>\n",
       "    <path class=\"displacy-arrowhead\" d=\"M62,154.0 L58,146.0 66,146.0\" fill=\"currentColor\"/>\n",
       "</g>\n",
       "\n",
       "<g class=\"displacy-arrow\">\n",
       "    <path class=\"displacy-arc\" id=\"arrow-92604ef707284dc581a1ac522eb4f4bc-0-1\" stroke-width=\"2px\" d=\"M212,152.0 212,102.0 500.0,102.0 500.0,152.0\" fill=\"none\" stroke=\"currentColor\"/>\n",
       "    <text dy=\"1.25em\" style=\"font-size: 0.8em; letter-spacing: 1px\">\n",
       "        <textPath xlink:href=\"#arrow-92604ef707284dc581a1ac522eb4f4bc-0-1\" class=\"displacy-label\" startOffset=\"50%\" side=\"left\" fill=\"currentColor\" text-anchor=\"middle\">compound</textPath>\n",
       "    </text>\n",
       "    <path class=\"displacy-arrowhead\" d=\"M212,154.0 L208,146.0 216,146.0\" fill=\"currentColor\"/>\n",
       "</g>\n",
       "\n",
       "<g class=\"displacy-arrow\">\n",
       "    <path class=\"displacy-arc\" id=\"arrow-92604ef707284dc581a1ac522eb4f4bc-0-2\" stroke-width=\"2px\" d=\"M362,152.0 362,127.0 497.0,127.0 497.0,152.0\" fill=\"none\" stroke=\"currentColor\"/>\n",
       "    <text dy=\"1.25em\" style=\"font-size: 0.8em; letter-spacing: 1px\">\n",
       "        <textPath xlink:href=\"#arrow-92604ef707284dc581a1ac522eb4f4bc-0-2\" class=\"displacy-label\" startOffset=\"50%\" side=\"left\" fill=\"currentColor\" text-anchor=\"middle\">compound</textPath>\n",
       "    </text>\n",
       "    <path class=\"displacy-arrowhead\" d=\"M362,154.0 L358,146.0 366,146.0\" fill=\"currentColor\"/>\n",
       "</g>\n",
       "\n",
       "<g class=\"displacy-arrow\">\n",
       "    <path class=\"displacy-arc\" id=\"arrow-92604ef707284dc581a1ac522eb4f4bc-0-3\" stroke-width=\"2px\" d=\"M512,152.0 512,127.0 647.0,127.0 647.0,152.0\" fill=\"none\" stroke=\"currentColor\"/>\n",
       "    <text dy=\"1.25em\" style=\"font-size: 0.8em; letter-spacing: 1px\">\n",
       "        <textPath xlink:href=\"#arrow-92604ef707284dc581a1ac522eb4f4bc-0-3\" class=\"displacy-label\" startOffset=\"50%\" side=\"left\" fill=\"currentColor\" text-anchor=\"middle\">nsubj</textPath>\n",
       "    </text>\n",
       "    <path class=\"displacy-arrowhead\" d=\"M512,154.0 L508,146.0 516,146.0\" fill=\"currentColor\"/>\n",
       "</g>\n",
       "</svg></span>"
      ],
      "text/plain": [
       "<IPython.core.display.HTML object>"
      ]
     },
     "metadata": {},
     "output_type": "display_data"
    }
   ],
   "source": [
    "# VISUALISASI displaCy\n",
    "\n",
    "import spacy\n",
    "from spacy import displacy\n",
    "\n",
    "random.seed(122)\n",
    "sample_test_sent_2 = random.choice(test_sents)\n",
    "tokens_sample_2 = [word for word, _ in sample_test_sent_2]\n",
    "sample_text_2 = \" \".join(tokens_sample_2)\n",
    "\n",
    "nlp_spacy = spacy.load('en_core_web_sm')\n",
    "doc = nlp_spacy(sample_text_2)\n",
    "\n",
    "# Visualisasi dengan displaCy\n",
    "displacy.render(doc, style=\"dep\", jupyter=True, options={'compact': True})\n"
   ]
  },
  {
   "cell_type": "markdown",
   "id": "cea6d3e9",
   "metadata": {},
   "source": [
    "## Integrasi dengan Pipeline NLP (NER)\n",
    "\n",
    "🟦 NER dengan spaCy\n",
    "\n",
    "- Gunakan kalimat yang sama untuk predict NER."
   ]
  },
  {
   "cell_type": "code",
   "execution_count": 23,
   "id": "7d2ff2fa",
   "metadata": {},
   "outputs": [
    {
     "name": "stdout",
     "output_type": "stream",
     "text": [
      "Visualisasi NER:\n"
     ]
    },
    {
     "data": {
      "text/html": [
       "<span class=\"tex2jax_ignore\"><div class=\"entities\" style=\"line-height: 2.5; direction: ltr\">\n",
       "<mark class=\"entity\" style=\"background: #7aecec; padding: 0.45em 0.6em; margin: 0 0.25em; line-height: 1; border-radius: 0.35em;\">\n",
       "    Microsoft\n",
       "    <span style=\"font-size: 0.8em; font-weight: bold; line-height: 1; border-radius: 0.35em; vertical-align: middle; margin-left: 0.5rem\">ORG</span>\n",
       "</mark>\n",
       " is \n",
       "<mark class=\"entity\" style=\"background: #e4e7d2; padding: 0.45em 0.6em; margin: 0 0.25em; line-height: 1; border-radius: 0.35em;\">\n",
       "    4\n",
       "    <span style=\"font-size: 0.8em; font-weight: bold; line-height: 1; border-radius: 0.35em; vertical-align: middle; margin-left: 0.5rem\">CARDINAL</span>\n",
       "</mark>\n",
       " - 0 ( they took down \n",
       "<mark class=\"entity\" style=\"background: #7aecec; padding: 0.45em 0.6em; margin: 0 0.25em; line-height: 1; border-radius: 0.35em;\">\n",
       "    Netscape\n",
       "    <span style=\"font-size: 0.8em; font-weight: bold; line-height: 1; border-radius: 0.35em; vertical-align: middle; margin-left: 0.5rem\">ORG</span>\n",
       "</mark>\n",
       " , \n",
       "<mark class=\"entity\" style=\"background: #7aecec; padding: 0.45em 0.6em; margin: 0 0.25em; line-height: 1; border-radius: 0.35em;\">\n",
       "    Suns Systems\n",
       "    <span style=\"font-size: 0.8em; font-weight: bold; line-height: 1; border-radius: 0.35em; vertical-align: middle; margin-left: 0.5rem\">ORG</span>\n",
       "</mark>\n",
       " , \n",
       "<mark class=\"entity\" style=\"background: #7aecec; padding: 0.45em 0.6em; margin: 0 0.25em; line-height: 1; border-radius: 0.35em;\">\n",
       "    MAC\n",
       "    <span style=\"font-size: 0.8em; font-weight: bold; line-height: 1; border-radius: 0.35em; vertical-align: middle; margin-left: 0.5rem\">ORG</span>\n",
       "</mark>\n",
       " and \n",
       "<mark class=\"entity\" style=\"background: #7aecec; padding: 0.45em 0.6em; margin: 0 0.25em; line-height: 1; border-radius: 0.35em;\">\n",
       "    IBM\n",
       "    <span style=\"font-size: 0.8em; font-weight: bold; line-height: 1; border-radius: 0.35em; vertical-align: middle; margin-left: 0.5rem\">ORG</span>\n",
       "</mark>\n",
       " ) and \n",
       "<mark class=\"entity\" style=\"background: #7aecec; padding: 0.45em 0.6em; margin: 0 0.25em; line-height: 1; border-radius: 0.35em;\">\n",
       "    Google\n",
       "    <span style=\"font-size: 0.8em; font-weight: bold; line-height: 1; border-radius: 0.35em; vertical-align: middle; margin-left: 0.5rem\">ORG</span>\n",
       "</mark>\n",
       " may be their next target .</div></span>"
      ],
      "text/plain": [
       "<IPython.core.display.HTML object>"
      ]
     },
     "metadata": {},
     "output_type": "display_data"
    }
   ],
   "source": [
    "# NER DENGAN spaCy\n",
    "\n",
    "import spacy\n",
    "from spacy import displacy\n",
    "\n",
    "# Load spaCy pipeline\n",
    "nlp = spacy.load(\"en_core_web_sm\")\n",
    "\n",
    "# Gunakan kalimat contoh yang sudah ada\n",
    "sentence = \" \".join(tokens_sample)\n",
    "\n",
    "# Process kalimat\n",
    "doc = nlp(sentence)\n",
    "\n",
    "print(\"Visualisasi NER:\")\n",
    "displacy.render(doc, style=\"ent\", jupyter=True)"
   ]
  },
  {
   "cell_type": "markdown",
   "id": "fbd7e2b7",
   "metadata": {},
   "source": [
    "Model spaCy `en_core_web_sm` dapat digunakan untuk memprediksi Named Entity Recognition (NER) pada suatu kalimat dari data test.\n",
    "\n",
    "Dari kalimat tersebut didapatkan informasi:\n",
    "- Microsoft, Netscape, Suns System, MAC, IBM, dan Google dikenali sebagai `ORG`, menunjukkan bahwa token tersebut membahas organisasi/perusahaan.\n",
    "- 4 dikenali sebagai `CARDINAL` yang menunjukkan skor\n"
   ]
  }
 ],
 "metadata": {
  "kernelspec": {
   "display_name": ".venv",
   "language": "python",
   "name": "python3"
  },
  "language_info": {
   "codemirror_mode": {
    "name": "ipython",
    "version": 3
   },
   "file_extension": ".py",
   "mimetype": "text/x-python",
   "name": "python",
   "nbconvert_exporter": "python",
   "pygments_lexer": "ipython3",
   "version": "3.11.11"
  }
 },
 "nbformat": 4,
 "nbformat_minor": 5
}
