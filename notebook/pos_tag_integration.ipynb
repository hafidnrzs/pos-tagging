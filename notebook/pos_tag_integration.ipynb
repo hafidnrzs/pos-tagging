{
 "cells": [
  {
   "cell_type": "markdown",
   "id": "9c922a12",
   "metadata": {},
   "source": [
    "# POS Tagging Integration\n",
    "\n",
    "POS Tagging bisa menjadi alat untuk pada pipeline tugas NLP lain, seperti Chunking dan NER."
   ]
  },
  {
   "cell_type": "markdown",
   "id": "76d16edd",
   "metadata": {},
   "source": [
    "## Integrasi dengan *Chunking* (Analisis Frasa)\n",
    "\n",
    "Chunking adalah proses mengelompokkan kata-kata menjadi \"potongan\" (chunk) sintaksis yang lebih besar, seperti Frasa Benda (Noun Phrase - NP)\n",
    "\n",
    "**Bagaimana POS Tag Membantu?**\n",
    "Noun Phrase sering kali mengikuti pola gramatikal yang bisa ditebak dari urutan POS Tag-nya. Pola yang paling umum adalah:\n",
    "\n",
    "(Determiner)?(Adjective)*(Noun)+\n",
    "\n",
    "Contoh: \"a (`DET`) lazy (`ADJ`) dog (`NOUN`)\"\n"
   ]
  },
  {
   "cell_type": "code",
   "execution_count": 6,
   "id": "142ce876",
   "metadata": {},
   "outputs": [
    {
     "name": "stderr",
     "output_type": "stream",
     "text": [
      "[nltk_data] Downloading package punkt to\n",
      "[nltk_data]     C:\\Users\\hafid\\AppData\\Roaming\\nltk_data...\n",
      "[nltk_data]   Package punkt is already up-to-date!\n",
      "[nltk_data] Downloading package averaged_perceptron_tagger to\n",
      "[nltk_data]     C:\\Users\\hafid\\AppData\\Roaming\\nltk_data...\n",
      "[nltk_data]   Package averaged_perceptron_tagger is already up-to-\n",
      "[nltk_data]       date!\n",
      "[nltk_data] Downloading package averaged_perceptron_tagger_eng to\n",
      "[nltk_data]     C:\\Users\\hafid\\AppData\\Roaming\\nltk_data...\n"
     ]
    },
    {
     "name": "stdout",
     "output_type": "stream",
     "text": [
      "Hasil POS Tagging:\n",
      " [('The', 'DT'), ('quick', 'JJ'), ('brown', 'NN'), ('fox', 'NN'), ('jumps', 'VBZ'), ('over', 'IN'), ('the', 'DT'), ('lazy', 'JJ'), ('dog', 'NN'), ('.', '.')] \n",
      "\n",
      "Hasil Chunking (Frasa Benda):\n",
      "(S\n",
      "  (NP The/DT quick/JJ brown/NN fox/NN)\n",
      "  jumps/VBZ\n",
      "  over/IN\n",
      "  (NP the/DT lazy/JJ dog/NN)\n",
      "  ./.)\n"
     ]
    },
    {
     "name": "stderr",
     "output_type": "stream",
     "text": [
      "[nltk_data]   Unzipping taggers\\averaged_perceptron_tagger_eng.zip.\n"
     ]
    }
   ],
   "source": [
    "import nltk\n",
    "\n",
    "# Pastikan tagset NLTK sudah diunduh\n",
    "nltk.download('punkt')\n",
    "nltk.download('averaged_perceptron_tagger')\n",
    "nltk.download('averaged_perceptron_tagger_eng')\n",
    "\n",
    "kalimat = \"The quick brown fox jumps over the lazy dog.\"\n",
    "\n",
    "# Langkah 1: Lakukan POS Tagging terlebih dahulu\n",
    "kata = nltk.word_tokenize(kalimat)\n",
    "kalimat_bertag = nltk.pos_tag(kata)\n",
    "print(\"Hasil POS Tagging:\\n\", kalimat_bertag, \"\\n\")\n",
    "\n",
    "# Langkah 2: Definisikan pola chunking berdasarkan urutan POS Tag\n",
    "# NP: Noun Phrase\n",
    "# <DT>? -> Determiner opsional (0 atau 1)\n",
    "# <JJ>* -> Adjective (0 atau lebih)\n",
    "# <NN.*>+ -> Noun (segala jenis, 1 atau lebih)\n",
    "grammar = \"NP: {<DT>?<JJ>*<NN.*>+}\"\n",
    "\n",
    "# Buat parser dengan grammar yang sudah didefinisikan\n",
    "chunk_parser = nltk.RegexpParser(grammar)\n",
    "\n",
    "# Langkah 3: Gunakan parser pada kalimat yang sudah di-tag\n",
    "tree = chunk_parser.parse(kalimat_bertag)\n",
    "\n",
    "print(\"Hasil Chunking (Frasa Benda):\")\n",
    "# tree.draw() # Buka window baru untuk menggambar tree jika kamu di desktop\n",
    "print(tree)"
   ]
  },
  {
   "cell_type": "markdown",
   "id": "ffd38b01",
   "metadata": {},
   "source": [
    "**Cara membaca hasil Chunking**\n",
    "\n",
    "Pada kalimat \"The quick brown fox jumps over the lazy dog\", parser berhasil mengelompokkan sebagai satu kesatuan Noun Phrase:\n",
    "- (NP The/DT quick/JJ brown/NN fox/NN)\n",
    "- (NP the/DT lazy/JJ dog/NN)\n",
    "\n",
    "Kata di luar potongan:\n",
    "- jumps/VBZ (kata kerja)\n",
    "- over/IN (preposisi)\n",
    "- ./. (tanda baca)"
   ]
  },
  {
   "cell_type": "markdown",
   "id": "1c6f62f3",
   "metadata": {},
   "source": [
    "## Integrasi dengan NER (Named Entity Recognition)\n",
    "\n",
    "NER adalah tugas untuk mengidentifikasi entitas bernama seperti nama orang, organisasi, dan lokasi.\n",
    "\n",
    "**Bagaimana NER membantu?**\n",
    "POS Tag memberikan petunjuk yang sangat kuat untuk model NER.\n",
    "- Petunjuk Utama: Sebuah kata yang dilabeli sebagai Proper Noun (`PROPN` atau `NNP`) memiliki probabilitas sangat tinggi untuk menjadi bagian dari sebuah *named entity*\n",
    "- Pola: Urutan beberapa `PROPN` berturut-turut (misalnya, `Central Java`) adalah sinyal kuat bahwa itu adalah satu entitas yang sama.\n",
    "\n",
    "Library spaCy sudah melakukan integrasi ini secara otomatis di dalam pipeline-nya. Model NER di spaCy dilatih menggunakan fitur-fitur dari POS Tagger"
   ]
  },
  {
   "cell_type": "code",
   "execution_count": 7,
   "id": "aa56494b",
   "metadata": {},
   "outputs": [
    {
     "name": "stdout",
     "output_type": "stream",
     "text": [
      "Melihat Entitas dan POS Tag Akarnya:\n",
      "\n",
      "Entitas: 'Apple'\n",
      "  -> Label NER: ORG\n",
      "  -> POS Tag dari kata akarnya ('Apple'): PROPN\n",
      "\n",
      "Entitas: 'U.K.'\n",
      "  -> Label NER: GPE\n",
      "  -> POS Tag dari kata akarnya ('U.K.'): PROPN\n",
      "\n",
      "Entitas: '$1 billion'\n",
      "  -> Label NER: MONEY\n",
      "  -> POS Tag dari kata akarnya ('billion'): NUM\n",
      "\n",
      "Entitas: 'London'\n",
      "  -> Label NER: GPE\n",
      "  -> POS Tag dari kata akarnya ('London'): PROPN\n",
      "\n"
     ]
    }
   ],
   "source": [
    "import spacy\n",
    "\n",
    "# Muat model yang sudah memiliki komponen 'tagger' (POS) dan 'ner' (NER)\n",
    "nlp = spacy.load(\"en_core_web_sm\")\n",
    "\n",
    "kalimat = \"Apple is looking at buying a U.K. startup for $1 billion in London.\"\n",
    "\n",
    "# Proses kalimat melalui seluruh pipeline spaCy (termasuk POS & NER)\n",
    "doc = nlp(kalimat)\n",
    "\n",
    "print(\"Melihat Entitas dan POS Tag Akarnya:\\n\")\n",
    "# Iterasi melalui entitas yang ditemukan\n",
    "for ent in doc.ents:\n",
    "    # ent.root adalah kata \"induk\" atau token utama dari entitas tersebut\n",
    "    print(f\"Entitas: '{ent.text}'\")\n",
    "    print(f\"  -> Label NER: {ent.label_}\")\n",
    "    print(f\"  -> POS Tag dari kata akarnya ('{ent.root.text}'): {ent.root.pos_}\\n\")"
   ]
  },
  {
   "cell_type": "markdown",
   "id": "7c7d21f1",
   "metadata": {},
   "source": [
    "**Cara membaca hasil NER**\n",
    "\n",
    "Coba bedah satu contoh:\n",
    "```\n",
    "Entitas: 'Apple'\n",
    "  -> Label NER: ORG\n",
    "  -> POS Tag dari kata akarnya ('Apple'): PROPN\n",
    "```\n",
    "\n",
    "Label NER: `ORG`\n",
    "\n",
    "Ini adalah kategori atau tipe dari entitas tersebut. Setiap label memiliki arti spesifik:\n",
    "- `ORG`: Organization. Model yakin bahwa \"Apple\" di sini merujuk pada perusahaan, bukan buah.\n",
    "- `GPE`: Geopolitical Entity. Ini biasanya merujuk pada negara, kota, atau provinsi. Contoh: \"U.K.\" dan \"London\"\n",
    "- `MONEY`: Merujuk pada nilai moneter. Contoh: \"$1 billion\".\n",
    "\n",
    "POS Tag dari kata akarnya \"Apple\": `PROPN`\n",
    "- kata akar: kata utama yang menjadi inti dari entitas tersebut.\n",
    "- POS Tag: PROPN: Proper Noun (Kata Benda Nama Diri). Ini adalah petunjuk bagi model NER karena \"Apple\" adalah naam spesifik (bukan kata benda biasa), model menjadi lebih yakin untuk mengklasifikasikannya sebagai entitas `ORG`."
   ]
  }
 ],
 "metadata": {
  "kernelspec": {
   "display_name": ".venv",
   "language": "python",
   "name": "python3"
  },
  "language_info": {
   "codemirror_mode": {
    "name": "ipython",
    "version": 3
   },
   "file_extension": ".py",
   "mimetype": "text/x-python",
   "name": "python",
   "nbconvert_exporter": "python",
   "pygments_lexer": "ipython3",
   "version": "3.11.11"
  }
 },
 "nbformat": 4,
 "nbformat_minor": 5
}
