{
 "cells": [
  {
   "cell_type": "markdown",
   "id": "1fba921a",
   "metadata": {},
   "source": [
    "Mendapatkan dataset bahasa Inggris menggunakan library NLTK (Natural Language Toolkit)\n",
    "\n",
    "Dataset yang akan digunakan adalah `treebank` (koleksi teks dari Wall Street Journal)\n",
    "dan untuk tagset menggunakan `universal_tagset` agar labelnya lebih sederhana (misalnya 'NOUN' bukan 'NN')"
   ]
  },
  {
   "cell_type": "code",
   "execution_count": 1,
   "id": "e97a6aac",
   "metadata": {},
   "outputs": [
    {
     "name": "stdout",
     "output_type": "stream",
     "text": [
      "[('Pierre', 'NOUN'), ('Vinken', 'NOUN'), (',', '.'), ('61', 'NUM'), ('years', 'NOUN'), ('old', 'ADJ'), (',', '.'), ('will', 'VERB'), ('join', 'VERB'), ('the', 'DET'), ('board', 'NOUN'), ('as', 'ADP'), ('a', 'DET'), ('nonexecutive', 'ADJ'), ('director', 'NOUN'), ('Nov.', 'NOUN'), ('29', 'NUM'), ('.', '.')]\n",
      "[('Mr.', 'NOUN'), ('Vinken', 'NOUN'), ('is', 'VERB'), ('chairman', 'NOUN'), ('of', 'ADP'), ('Elsevier', 'NOUN'), ('N.V.', 'NOUN'), (',', '.'), ('the', 'DET'), ('Dutch', 'NOUN'), ('publishing', 'VERB'), ('group', 'NOUN'), ('.', '.')]\n",
      "[('Rudolph', 'NOUN'), ('Agnew', 'NOUN'), (',', '.'), ('55', 'NUM'), ('years', 'NOUN'), ('old', 'ADJ'), ('and', 'CONJ'), ('former', 'ADJ'), ('chairman', 'NOUN'), ('of', 'ADP'), ('Consolidated', 'NOUN'), ('Gold', 'NOUN'), ('Fields', 'NOUN'), ('PLC', 'NOUN'), (',', '.'), ('was', 'VERB'), ('named', 'VERB'), ('*-1', 'X'), ('a', 'DET'), ('nonexecutive', 'ADJ'), ('director', 'NOUN'), ('of', 'ADP'), ('this', 'DET'), ('British', 'ADJ'), ('industrial', 'ADJ'), ('conglomerate', 'NOUN'), ('.', '.')]\n",
      "[('A', 'DET'), ('form', 'NOUN'), ('of', 'ADP'), ('asbestos', 'NOUN'), ('once', 'ADV'), ('used', 'VERB'), ('*', 'X'), ('*', 'X'), ('to', 'PRT'), ('make', 'VERB'), ('Kent', 'NOUN'), ('cigarette', 'NOUN'), ('filters', 'NOUN'), ('has', 'VERB'), ('caused', 'VERB'), ('a', 'DET'), ('high', 'ADJ'), ('percentage', 'NOUN'), ('of', 'ADP'), ('cancer', 'NOUN'), ('deaths', 'NOUN'), ('among', 'ADP'), ('a', 'DET'), ('group', 'NOUN'), ('of', 'ADP'), ('workers', 'NOUN'), ('exposed', 'VERB'), ('*', 'X'), ('to', 'PRT'), ('it', 'PRON'), ('more', 'ADV'), ('than', 'ADP'), ('30', 'NUM'), ('years', 'NOUN'), ('ago', 'ADP'), (',', '.'), ('researchers', 'NOUN'), ('reported', 'VERB'), ('0', 'X'), ('*T*-1', 'X'), ('.', '.')]\n",
      "[('The', 'DET'), ('asbestos', 'NOUN'), ('fiber', 'NOUN'), (',', '.'), ('crocidolite', 'NOUN'), (',', '.'), ('is', 'VERB'), ('unusually', 'ADV'), ('resilient', 'ADJ'), ('once', 'ADP'), ('it', 'PRON'), ('enters', 'VERB'), ('the', 'DET'), ('lungs', 'NOUN'), (',', '.'), ('with', 'ADP'), ('even', 'ADV'), ('brief', 'ADJ'), ('exposures', 'NOUN'), ('to', 'PRT'), ('it', 'PRON'), ('causing', 'VERB'), ('symptoms', 'NOUN'), ('that', 'DET'), ('*T*-1', 'X'), ('show', 'VERB'), ('up', 'PRT'), ('decades', 'NOUN'), ('later', 'ADJ'), (',', '.'), ('researchers', 'NOUN'), ('said', 'VERB'), ('0', 'X'), ('*T*-2', 'X'), ('.', '.')]\n"
     ]
    },
    {
     "name": "stderr",
     "output_type": "stream",
     "text": [
      "[nltk_data] Downloading package treebank to\n",
      "[nltk_data]     C:\\Users\\hafid\\AppData\\Roaming\\nltk_data...\n",
      "[nltk_data]   Package treebank is already up-to-date!\n",
      "[nltk_data] Downloading package universal_tagset to\n",
      "[nltk_data]     C:\\Users\\hafid\\AppData\\Roaming\\nltk_data...\n",
      "[nltk_data]   Package universal_tagset is already up-to-date!\n"
     ]
    }
   ],
   "source": [
    "import nltk\n",
    "\n",
    "# Download dataset\n",
    "nltk.download(\"treebank\")\n",
    "nltk.download(\"universal_tagset\")\n",
    "\n",
    "dataset_english = nltk.corpus.treebank.tagged_sents(tagset=\"universal\")[:5]\n",
    "\n",
    "for sentence in dataset_english:\n",
    "    print(sentence)"
   ]
  },
  {
   "cell_type": "markdown",
   "id": "9cd6d8ae",
   "metadata": {},
   "source": [
    "Dataset bahasa Indonesia tidak tersedia langsung di NLTK. Untuk contoh sederhana bisa menggunakan dataset sederhana sendiri."
   ]
  },
  {
   "cell_type": "code",
   "execution_count": 2,
   "id": "99e32e2c",
   "metadata": {},
   "outputs": [
    {
     "name": "stdout",
     "output_type": "stream",
     "text": [
      "[('Saya', 'PRON'), ('belajar', 'VERB'), ('data', 'NOUN'), ('sains', 'NOUN'), ('.', '.')]\n",
      "[('Anak', 'NOUN'), ('kucing', 'NOUN'), ('itu', 'DET'), ('sangat', 'ADV'), ('lucu', 'ADJ'), ('.', '.')]\n",
      "[('Dia', 'PRON'), ('membeli', 'VERB'), ('buku-buku', 'NOUN'), ('baru', 'ADJ'), ('di', 'ADP'), ('toko', 'NOUN'), ('.', '.')]\n"
     ]
    }
   ],
   "source": [
    "dataset_indonesia = [\n",
    "    [\n",
    "        (\"Saya\", \"PRON\"),\n",
    "        (\"belajar\", \"VERB\"),\n",
    "        (\"data\", \"NOUN\"),\n",
    "        (\"sains\", \"NOUN\"),\n",
    "        (\".\", \".\"),\n",
    "    ],\n",
    "    [\n",
    "        (\"Anak\", \"NOUN\"),\n",
    "        (\"kucing\", \"NOUN\"),\n",
    "        (\"itu\", \"DET\"),\n",
    "        (\"sangat\", \"ADV\"),\n",
    "        (\"lucu\", \"ADJ\"),\n",
    "        (\".\", \".\"),\n",
    "    ],\n",
    "    [\n",
    "        (\"Dia\", \"PRON\"),\n",
    "        (\"membeli\", \"VERB\"),\n",
    "        (\"buku-buku\", \"NOUN\"),\n",
    "        (\"baru\", \"ADJ\"),\n",
    "        (\"di\", \"ADP\"),\n",
    "        (\"toko\", \"NOUN\"),\n",
    "        (\".\", \".\"),\n",
    "    ],\n",
    "]\n",
    "\n",
    "for sentence in dataset_indonesia:\n",
    "    print(sentence)"
   ]
  },
  {
   "cell_type": "markdown",
   "id": "5d61b214",
   "metadata": {},
   "source": [
    "## *Rule-Based Tagger* Sederhana\n",
    "\n",
    "Membuat serangkaian aturan \"jika-maka\" untuk menebak *tag* sebuah kata.\n",
    "\n",
    "Logikanya:\n",
    "- Jika kata berawalan 'me-' atau 'ber-', kemungkinan besar itu **VERB**.\n",
    "- Jika kata adalah angka, itu pasti **NUM**.\n",
    "- Jika kata punya pengulangan (ada tanda '-'), kemungkinan itu **NOUN** jamak.\n",
    "- Jika tidak ada aturan yang cocok, beri label default, misalnya **NOUN** (karena kata benda paling sering muncul)"
   ]
  },
  {
   "cell_type": "code",
   "execution_count": 3,
   "id": "6faa9b54",
   "metadata": {},
   "outputs": [],
   "source": [
    "def simple_rule_based_tagger(sentence):\n",
    "    \"\"\"\n",
    "    Fungsi ini menerima sebuah kalimat (list of words) dan mengembalikan kalimat yang sudah di-tag berdasarkan aturan sederhana.\n",
    "    \"\"\"\n",
    "    tagged_sentence = []\n",
    "    # asumsikan kalimat sudah di-split, contoh: ['Saya', 'belajar', 'data']\n",
    "    for word in sentence:\n",
    "        lower_word = word.lower()\n",
    "        tag = \"NOUN\"  # default rule: anggap semua kata adalah NOUN\n",
    "\n",
    "        # aturan untuk bahasa Inggris\n",
    "        if lower_word.isdigit():\n",
    "            tag = \"NUM\"\n",
    "        # ciri VERB dalam bahasa Inggris berakhiran dengan '-ing' atau '-ed'\n",
    "        elif lower_word.endswith(\"ing\") or lower_word.endswith(\"ed\"):\n",
    "            tag = \"VERB\"\n",
    "\n",
    "        # aturan untuk bahasa Indonesia\n",
    "        elif (\n",
    "            lower_word.startswith(\"me\")\n",
    "            or lower_word.startswith(\"ber\")\n",
    "            or lower_word.startswith(\"di\")\n",
    "        ):\n",
    "            tag = \"VERB\"\n",
    "        elif '-' in lower_word:\n",
    "            tag = \"NOUN\"\n",
    "        \n",
    "        tagged_sentence.append((word, tag))\n",
    "\n",
    "    return tagged_sentence"
   ]
  },
  {
   "cell_type": "code",
   "execution_count": 4,
   "id": "12da8836",
   "metadata": {},
   "outputs": [
    {
     "name": "stdout",
     "output_type": "stream",
     "text": [
      "Kalimat Inggris: He is running and playing\n",
      "Hasil Tagging: [('He', 'NOUN'), ('is', 'NOUN'), ('running', 'VERB'), ('and', 'NOUN'), ('playing', 'VERB')]\n"
     ]
    }
   ],
   "source": [
    "# Uji coba bahasa Inggris\n",
    "english_sentence = \"He is running and playing\"\n",
    "english_sentence_split = english_sentence.split()\n",
    "english_result = simple_rule_based_tagger(english_sentence_split)\n",
    "\n",
    "print(f\"Kalimat Inggris: {english_sentence}\")\n",
    "print(f\"Hasil Tagging: {english_result}\")"
   ]
  },
  {
   "cell_type": "code",
   "execution_count": 5,
   "id": "35011c9c",
   "metadata": {},
   "outputs": [
    {
     "name": "stdout",
     "output_type": "stream",
     "text": [
      "Kalimat Indonesia: Saya membeli buku-buku di toko\n",
      "hasil Tagging: [('Saya', 'NOUN'), ('membeli', 'VERB'), ('buku-buku', 'NOUN'), ('di', 'VERB'), ('toko', 'NOUN')]\n"
     ]
    }
   ],
   "source": [
    "# Uji coba bahasa Indonesia\n",
    "kalimat_indonesia = \"Saya membeli buku-buku di toko\"\n",
    "kalimat_indonesia_split = kalimat_indonesia.split()\n",
    "hasil_indonesia = simple_rule_based_tagger(kalimat_indonesia_split)\n",
    "\n",
    "print(f\"Kalimat Indonesia: {kalimat_indonesia}\")\n",
    "print(f\"hasil Tagging: {hasil_indonesia}\")"
   ]
  },
  {
   "cell_type": "markdown",
   "id": "bad84667",
   "metadata": {},
   "source": [
    "### Regular Expression (Regex) Tagger\n",
    "\n",
    "Regex memungkinkan mendefinisikan pola yang lebih canggih daripada sekadar `endswith('ing')`"
   ]
  },
  {
   "cell_type": "code",
   "execution_count": 6,
   "id": "be0b8761",
   "metadata": {},
   "outputs": [],
   "source": [
    "import nltk\n",
    "\n",
    "# Definisikan pola\n",
    "# Format: (pola_regex, tag)\n",
    "patterns = [\n",
    "    # kata berakhiran (suffix)\n",
    "    (r'.*ing$', 'VERB'),\n",
    "    (r'.*ed$', 'VERB'),\n",
    "    (r'.*es$', 'VERB'),\n",
    "    (r'.*ould$', 'VERB'),        # could, should, would\n",
    "    (r'.*\\'s$', 'NOUN'),         # kata posesif\n",
    "    (r'.*s$', 'NOUN'),           # kata jamak\n",
    "    (r'^[A-Z][a-z]*$', 'PROPN'), # kata dengan huruf kapital di awal\n",
    "    (r'^\\d+$', 'NUM'),           # angka\n",
    "    # aturan default\n",
    "    (r'.*', 'NOUN')\n",
    "]"
   ]
  },
  {
   "cell_type": "code",
   "execution_count": 7,
   "id": "8fc65475",
   "metadata": {},
   "outputs": [
    {
     "name": "stdout",
     "output_type": "stream",
     "text": [
      "--- Regex Tagger ---\n",
      "\n",
      "Kalimat: Learning POS Tagging is fun\n",
      "Hasil: [('Learning', 'VERB'), ('POS', 'NOUN'), ('Tagging', 'VERB'), ('is', 'NOUN'), ('fun', 'NOUN')]\n"
     ]
    }
   ],
   "source": [
    "# Buat Regex Tagger dengan pola yang sudah didefinisikan\n",
    "regex_tagger = nltk.RegexpTagger(patterns)\n",
    "\n",
    "# Uji pada kalimat\n",
    "kalimat = \"Learning POS Tagging is fun\"\n",
    "hasil = regex_tagger.tag(kalimat.split())\n",
    "\n",
    "print(\"--- Regex Tagger ---\\n\")\n",
    "print(f\"Kalimat: {kalimat}\")\n",
    "print(f\"Hasil: {hasil}\")"
   ]
  },
  {
   "cell_type": "markdown",
   "id": "c706eccb",
   "metadata": {},
   "source": [
    "## Statistical POS Tagger (N-gram Model)"
   ]
  },
  {
   "cell_type": "markdown",
   "id": "aa7f2724",
   "metadata": {},
   "source": [
    "### Dictionary Tagger\n",
    "\n",
    "Cara kerjanya:\n",
    "1. Baca seluruh dataset yang sudah dilabeli.\n",
    "2. Buat kamus di mana **key** adalah kata, dan **value** adalah tag yang paling sering muncul untuk kata itu.\n",
    "3. Saat ada kalimat baru, tinggal cek setiap kata di kamus. Jika tidak ada, maka berikan label default.\n",
    "\n",
    "Di NLTK, ini disebut `UnigramTagger`"
   ]
  },
  {
   "cell_type": "code",
   "execution_count": 8,
   "id": "45a39015",
   "metadata": {},
   "outputs": [],
   "source": [
    "# Load dataset sebagai training\n",
    "try:\n",
    "    data = list(nltk.corpus.treebank.tagged_sents(tagset='universal'))\n",
    "except NameError:\n",
    "    nltk.download('treebank')\n",
    "    nltk.download('universal_tagset')\n",
    "    data = list(nltk.corpus.treebank.tagged_sents(tagset='universal'))\n",
    "\n",
    "train_size = int(len(data) * 0.8)\n",
    "train_data = data[:train_size]\n",
    "\n",
    "# Buat dictionary tagger dari data training\n",
    "dictionary_tagger = nltk.UnigramTagger(train_data)"
   ]
  },
  {
   "cell_type": "code",
   "execution_count": 9,
   "id": "c7a88a76",
   "metadata": {},
   "outputs": [
    {
     "name": "stdout",
     "output_type": "stream",
     "text": [
      "--- Dictionary Tagger ---\n",
      "\n",
      "Kalimat: The President will book a flight\n",
      "Hasil: [('The', 'DET'), ('President', 'NOUN'), ('will', 'VERB'), ('book', 'NOUN'), ('a', 'DET'), ('flight', None)]\n",
      "\n",
      "Kalimat: Learning POS Tagging is fun\n",
      "Hasil: [('Learning', 'NOUN'), ('POS', None), ('Tagging', None), ('is', 'VERB'), ('fun', None)]\n"
     ]
    }
   ],
   "source": [
    "# Uji pada kalimat\n",
    "sentence = \"The President will book a flight\"\n",
    "result = dictionary_tagger.tag(sentence.split())\n",
    "\n",
    "print(\"--- Dictionary Tagger ---\")\n",
    "print(f\"\\nKalimat: {sentence}\")\n",
    "print(f\"Hasil: {result}\")\n",
    "\n",
    "# kata yang tidak dikenal akan diberi label 'None'\n",
    "unknown_sentence = \"Learning POS Tagging is fun\"\n",
    "unknown_result = dictionary_tagger.tag(unknown_sentence.split())\n",
    "print(f\"\\nKalimat: {unknown_sentence}\")\n",
    "print(f\"Hasil: {unknown_result}\")"
   ]
  },
  {
   "cell_type": "markdown",
   "id": "03312f5b",
   "metadata": {},
   "source": [
    "### HMM Tagger\n",
    "\n",
    "menggunakan Hidden Markov Model (HMM) untuk POS Tagger"
   ]
  },
  {
   "cell_type": "code",
   "execution_count": 10,
   "id": "df614134",
   "metadata": {},
   "outputs": [
    {
     "name": "stdout",
     "output_type": "stream",
     "text": [
      "Jumlah kalimat total: 3914\n",
      "Jumlah kalimat training: 3131\n",
      "Jumlah kalimat testing: 783\n"
     ]
    }
   ],
   "source": [
    "import nltk\n",
    "import random\n",
    "\n",
    "# Load dataset\n",
    "try:\n",
    "    nltk.data.find(\"corpora/treebank/tagged\")\n",
    "except nltk.downloader.DownloadError:\n",
    "    print(\"Mengunduh dataset 'treebank' dan 'universal_tagset'...\")\n",
    "    nltk.download('treebank')\n",
    "    nltk.download('universal_tagset')\n",
    "\n",
    "# Load seluruh data dengan tagset universal\n",
    "data = list(nltk.corpus.treebank.tagged_sents(tagset='universal'))\n",
    "\n",
    "random.shuffle(data)\n",
    "\n",
    "# Bagi data: 80% untuk training, 20% untuk testing\n",
    "train_size = int(len(data) * 0.8)\n",
    "train_data = data[:train_size]\n",
    "test_data = data[train_size:]\n",
    "\n",
    "print(f\"Jumlah kalimat total: {len(data)}\")\n",
    "print(f\"Jumlah kalimat training: {len(train_data)}\")\n",
    "print(f\"Jumlah kalimat testing: {len(test_data)}\")"
   ]
  },
  {
   "cell_type": "code",
   "execution_count": 11,
   "id": "3f1e922c",
   "metadata": {},
   "outputs": [
    {
     "name": "stdout",
     "output_type": "stream",
     "text": [
      "Mulai melatih HMM Tagger...\n",
      "Pelatihan selesai!\n",
      "\n",
      "Akurasi model pada data tes: 92.36%\n",
      "\n"
     ]
    }
   ],
   "source": [
    "import numpy as np\n",
    "nltk.tag.hmm.np = np\n",
    "\n",
    "# Latih model HMM\n",
    "print(\"Mulai melatih HMM Tagger...\")\n",
    "hmm_tagger = nltk.HiddenMarkovModelTagger.train(train_data)\n",
    "print(\"Pelatihan selesai!\\n\")\n",
    "\n",
    "# Uji model\n",
    "accuracy = hmm_tagger.accuracy(test_data)\n",
    "print(f\"Akurasi model pada data tes: {accuracy * 100:.2f}%\\n\")"
   ]
  },
  {
   "cell_type": "code",
   "execution_count": 12,
   "id": "03e6d02f",
   "metadata": {},
   "outputs": [
    {
     "name": "stdout",
     "output_type": "stream",
     "text": [
      "\n",
      "Kalimat: The President is speaking to the press\n",
      "Hasil HMM Tagging: [('The', 'DET'), ('President', 'NOUN'), ('is', 'VERB'), ('speaking', 'X'), ('to', 'PRT'), ('the', 'DET'), ('press', 'NOUN')]\n",
      "\n",
      "Kalimat: I will book a flight to Semarang\n",
      "Hasil HMM Tagging: [('I', 'PRON'), ('will', 'VERB'), ('book', 'VERB'), ('a', 'DET'), ('flight', 'X'), ('to', 'PRT'), ('Semarang', 'VERB')]\n",
      "\n",
      "Kalimat: Learning POS Tagging is challenging\n",
      "Hasil HMM Tagging: [('Learning', 'NOUN'), ('POS', '.'), ('Tagging', 'PRON'), ('is', 'VERB'), ('challenging', 'VERB')]\n"
     ]
    }
   ],
   "source": [
    "# Coba kalimat baru\n",
    "new_sentence = [\n",
    "    \"The President is speaking to the press\",\n",
    "    \"I will book a flight to Semarang\",\n",
    "    \"Learning POS Tagging is challenging\"\n",
    "]\n",
    "num_sentence = len(new_sentence)\n",
    "\n",
    "tagging_result = []\n",
    "for text in new_sentence:\n",
    "    result_hmm = hmm_tagger.tag(text.split())\n",
    "    \n",
    "    tagging_result.append(result_hmm)\n",
    "\n",
    "for i in range(num_sentence):\n",
    "    print(f\"\\nKalimat: {new_sentence[i]}\")\n",
    "    print(f\"Hasil HMM Tagging: {tagging_result[i]}\")\n"
   ]
  },
  {
   "cell_type": "markdown",
   "id": "d92948dc",
   "metadata": {},
   "source": [
    "NOUN = kata benda\n",
    "VERB = kata kerja\n",
    "X = kata lainnya\n",
    "DET = determiner (memperkenalkan sebuah kata benda)\n",
    "PRT = partikel\n",
    "\n",
    "Analisis hasil tagging:\n",
    "- `('speaking', 'X')` dan `('flight', 'X')` adalah contoh masalah kata yang tidak dikenal\n",
    "- `('Semarang', 'VERB')` karena kata \"Semarang\" tidak ada di data latih. Model mungkin menebak berdasarkan konteks. Setelah kata \"to\", biasa diikuti oleh kata kerja.\n",
    "- `('POS', '.')` dan `('Tagging', 'PRON')` menunjukkan kebingungan model saat menghadapi istilah teknis atau kata yang diawali huruf besar yang disalahartikan dengan pronoun"
   ]
  },
  {
   "cell_type": "markdown",
   "id": "1de8fe0e",
   "metadata": {},
   "source": [
    "Percobaan POS Tagging menggunakan Gemini 2.5 Pro\n",
    "\n",
    "**Kalimat 1: \"The President is speaking to the press\"**\n",
    "\n",
    "Hasil Tagging:\n",
    "```\n",
    "[('The', 'DET'), ('President', 'NOUN'), ('is', 'VERB'), ('speaking', 'VERB'), ('to', 'ADP'), ('the', 'DET'), ('press', 'NOUN')]\n",
    "```\n",
    "\n",
    "Penjelasan:\n",
    "- `('speaking', 'VERB')`: Ini adalah kata kerja (bentuk present participle) yang menunjukkan aksi yang sedang berlangsung. HMM Tagger kita salah melabelinya sebagai X karena mungkin kata ini kurang umum di data latihnya.\n",
    "- `('to', 'ADP')`: Di sini, \"to\" berfungsi sebagai preposisi (Adposition), yang menghubungkan kata kerja \"speaking\" dengan objeknya \"the press\".\n",
    "\n",
    "\n",
    "\n",
    "**Kalimat 2: \"I will book a flight to Semarang\"**\n",
    "\n",
    "Hasil Tagging:\n",
    "```\n",
    "[('I', 'PRON'), ('will', 'VERB'), ('book', 'VERB'), ('a', 'DET'), ('flight', 'NOUN'), ('to', 'ADP'), ('Semarang', 'PROPN')]\n",
    "```\n",
    "\n",
    "Penjelasan:\n",
    "- `('book', 'VERB')`: Sangat jelas dari konteks (I will...) bahwa ini adalah kata kerja yang berarti \"memesan\", bukan kata benda \"buku\". HMM kita sudah benar di sini, hebat!\n",
    "- `('flight', 'NOUN')`: Ini adalah kata benda (\"penerbangan\"). HMM kita salah melabelinya X.\n",
    "- `('Semarang', 'PROPN')`: Ini adalah Proper Noun (Kata Benda Nama Diri), yaitu nama spesifik dari sebuah lokasi (kota tempatmu sekarang!). HMM salah melabelinya VERB karena sama sekali tidak mengenal kata ini dan hanya menebak dari konteks.\n",
    "\n",
    "\n",
    "\n",
    "**Kalimat 3: \"Learning POS Tagging is challenging\"**\n",
    "\n",
    "Hasil Tagging:\n",
    "```\n",
    "[('Learning', 'NOUN'), ('POS', 'PROPN'), ('Tagging', 'PROPN'), ('is', 'VERB'), ('challenging', 'ADJ')]\n",
    "```\n",
    "\n",
    "Penjelasan:\n",
    "- `('Learning', 'NOUN')`: Ini sedikit tricky. \"Learning\" di sini adalah gerund, yaitu bentuk kata kerja (-ing) yang berfungsi sebagai kata benda. Karena ia menjadi subjek dari kalimat, label NOUN adalah yang paling tepat.\n",
    "- `('POS', 'PROPN')` dan ('Tagging', 'PROPN'): Keduanya adalah bagian dari nama sebuah konsep spesifik, jadi paling tepat dilabeli sebagai Proper Noun.\n",
    "- `('challenging', 'ADJ')`: Ini adalah kata sifat (Adjective) yang mendeskripsikan subjek (\"Learning POS Tagging\"). HMM kita salah menebaknya sebagai VERB."
   ]
  }
 ],
 "metadata": {
  "kernelspec": {
   "display_name": ".venv",
   "language": "python",
   "name": "python3"
  },
  "language_info": {
   "codemirror_mode": {
    "name": "ipython",
    "version": 3
   },
   "file_extension": ".py",
   "mimetype": "text/x-python",
   "name": "python",
   "nbconvert_exporter": "python",
   "pygments_lexer": "ipython3",
   "version": "3.11.11"
  }
 },
 "nbformat": 4,
 "nbformat_minor": 5
}
