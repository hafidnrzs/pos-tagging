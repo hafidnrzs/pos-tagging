{
 "cells": [
  {
   "cell_type": "markdown",
   "id": "1fba921a",
   "metadata": {},
   "source": [
    "Mendapatkan dataset bahasa Inggris menggunakan library NLTK (Natural Language Toolkit)\n",
    "\n",
    "Dataset yang akan digunakan adalah `treebank` (koleksi teks dari Wall Street Journal)\n",
    "dan untuk tagset menggunakan `universal_tagset` agar labelnya lebih sederhana (misalnya 'NOUN' bukan 'NN')"
   ]
  },
  {
   "cell_type": "code",
   "execution_count": null,
   "id": "e97a6aac",
   "metadata": {},
   "outputs": [
    {
     "name": "stderr",
     "output_type": "stream",
     "text": [
      "[nltk_data] Downloading package treebank to\n",
      "[nltk_data]     C:\\Users\\hafid\\AppData\\Roaming\\nltk_data...\n",
      "[nltk_data]   Package treebank is already up-to-date!\n",
      "[nltk_data] Downloading package universal_tagset to\n",
      "[nltk_data]     C:\\Users\\hafid\\AppData\\Roaming\\nltk_data...\n"
     ]
    },
    {
     "name": "stdout",
     "output_type": "stream",
     "text": [
      "[('Pierre', 'NOUN'), ('Vinken', 'NOUN'), (',', '.'), ('61', 'NUM'), ('years', 'NOUN'), ('old', 'ADJ'), (',', '.'), ('will', 'VERB'), ('join', 'VERB'), ('the', 'DET'), ('board', 'NOUN'), ('as', 'ADP'), ('a', 'DET'), ('nonexecutive', 'ADJ'), ('director', 'NOUN'), ('Nov.', 'NOUN'), ('29', 'NUM'), ('.', '.')]\n",
      "[('Mr.', 'NOUN'), ('Vinken', 'NOUN'), ('is', 'VERB'), ('chairman', 'NOUN'), ('of', 'ADP'), ('Elsevier', 'NOUN'), ('N.V.', 'NOUN'), (',', '.'), ('the', 'DET'), ('Dutch', 'NOUN'), ('publishing', 'VERB'), ('group', 'NOUN'), ('.', '.')]\n",
      "[('Rudolph', 'NOUN'), ('Agnew', 'NOUN'), (',', '.'), ('55', 'NUM'), ('years', 'NOUN'), ('old', 'ADJ'), ('and', 'CONJ'), ('former', 'ADJ'), ('chairman', 'NOUN'), ('of', 'ADP'), ('Consolidated', 'NOUN'), ('Gold', 'NOUN'), ('Fields', 'NOUN'), ('PLC', 'NOUN'), (',', '.'), ('was', 'VERB'), ('named', 'VERB'), ('*-1', 'X'), ('a', 'DET'), ('nonexecutive', 'ADJ'), ('director', 'NOUN'), ('of', 'ADP'), ('this', 'DET'), ('British', 'ADJ'), ('industrial', 'ADJ'), ('conglomerate', 'NOUN'), ('.', '.')]\n",
      "[('A', 'DET'), ('form', 'NOUN'), ('of', 'ADP'), ('asbestos', 'NOUN'), ('once', 'ADV'), ('used', 'VERB'), ('*', 'X'), ('*', 'X'), ('to', 'PRT'), ('make', 'VERB'), ('Kent', 'NOUN'), ('cigarette', 'NOUN'), ('filters', 'NOUN'), ('has', 'VERB'), ('caused', 'VERB'), ('a', 'DET'), ('high', 'ADJ'), ('percentage', 'NOUN'), ('of', 'ADP'), ('cancer', 'NOUN'), ('deaths', 'NOUN'), ('among', 'ADP'), ('a', 'DET'), ('group', 'NOUN'), ('of', 'ADP'), ('workers', 'NOUN'), ('exposed', 'VERB'), ('*', 'X'), ('to', 'PRT'), ('it', 'PRON'), ('more', 'ADV'), ('than', 'ADP'), ('30', 'NUM'), ('years', 'NOUN'), ('ago', 'ADP'), (',', '.'), ('researchers', 'NOUN'), ('reported', 'VERB'), ('0', 'X'), ('*T*-1', 'X'), ('.', '.')]\n",
      "[('The', 'DET'), ('asbestos', 'NOUN'), ('fiber', 'NOUN'), (',', '.'), ('crocidolite', 'NOUN'), (',', '.'), ('is', 'VERB'), ('unusually', 'ADV'), ('resilient', 'ADJ'), ('once', 'ADP'), ('it', 'PRON'), ('enters', 'VERB'), ('the', 'DET'), ('lungs', 'NOUN'), (',', '.'), ('with', 'ADP'), ('even', 'ADV'), ('brief', 'ADJ'), ('exposures', 'NOUN'), ('to', 'PRT'), ('it', 'PRON'), ('causing', 'VERB'), ('symptoms', 'NOUN'), ('that', 'DET'), ('*T*-1', 'X'), ('show', 'VERB'), ('up', 'PRT'), ('decades', 'NOUN'), ('later', 'ADJ'), (',', '.'), ('researchers', 'NOUN'), ('said', 'VERB'), ('0', 'X'), ('*T*-2', 'X'), ('.', '.')]\n"
     ]
    },
    {
     "name": "stderr",
     "output_type": "stream",
     "text": [
      "[nltk_data]   Unzipping taggers\\universal_tagset.zip.\n"
     ]
    }
   ],
   "source": [
    "import nltk\n",
    "\n",
    "# Download dataset\n",
    "nltk.download(\"treebank\")\n",
    "nltk.download(\"universal_tagset\")\n",
    "\n",
    "dataset_english = nltk.corpus.treebank.tagged_sents(tagset=\"universal\")[:5]\n",
    "\n",
    "for sentence in dataset_english:\n",
    "    print(sentence)"
   ]
  },
  {
   "cell_type": "markdown",
   "id": "9cd6d8ae",
   "metadata": {},
   "source": [
    "Dataset bahasa Indonesia tidak tersedia langsung di NLTK. Untuk contoh sederhana bisa menggunakan dataset sederhana sendiri."
   ]
  },
  {
   "cell_type": "code",
   "execution_count": null,
   "id": "99e32e2c",
   "metadata": {},
   "outputs": [
    {
     "name": "stdout",
     "output_type": "stream",
     "text": [
      "[('Saya', 'PRON'), ('belajar', 'VERB'), ('data', 'NOUN'), ('sains', 'NOUN'), ('.', '.')]\n",
      "[('Anak', 'NOUN'), ('kucing', 'NOUN'), ('itu', 'DET'), ('sangat', 'ADV'), ('lucu', 'ADJ'), ('.', '.')]\n",
      "[('Dia', 'PRON'), ('membeli', 'VERB'), ('buku-buku', 'NOUN'), ('baru', 'ADJ'), ('di', 'ADP'), ('toko', 'NOUN'), ('.', '.')]\n"
     ]
    }
   ],
   "source": [
    "dataset_indonesia = [\n",
    "    [\n",
    "        (\"Saya\", \"PRON\"),\n",
    "        (\"belajar\", \"VERB\"),\n",
    "        (\"data\", \"NOUN\"),\n",
    "        (\"sains\", \"NOUN\"),\n",
    "        (\".\", \".\"),\n",
    "    ],\n",
    "    [\n",
    "        (\"Anak\", \"NOUN\"),\n",
    "        (\"kucing\", \"NOUN\"),\n",
    "        (\"itu\", \"DET\"),\n",
    "        (\"sangat\", \"ADV\"),\n",
    "        (\"lucu\", \"ADJ\"),\n",
    "        (\".\", \".\"),\n",
    "    ],\n",
    "    [\n",
    "        (\"Dia\", \"PRON\"),\n",
    "        (\"membeli\", \"VERB\"),\n",
    "        (\"buku-buku\", \"NOUN\"),\n",
    "        (\"baru\", \"ADJ\"),\n",
    "        (\"di\", \"ADP\"),\n",
    "        (\"toko\", \"NOUN\"),\n",
    "        (\".\", \".\"),\n",
    "    ],\n",
    "]\n",
    "\n",
    "for sentence in dataset_indonesia:\n",
    "    print(sentence)"
   ]
  },
  {
   "cell_type": "markdown",
   "id": "5d61b214",
   "metadata": {},
   "source": [
    "## *Rule-Based Tagger* Sederhana\n",
    "\n",
    "Membaut serangkaian aturan \"jika-maka\" untuk menebak *tag* sebuah kata.\n",
    "\n",
    "Logikanya:\n",
    "- Jika kata berawalan 'me-' atau 'ber-', kemungkinan besar itu **VERB**.\n",
    "- Jika kata adalah angka, itu pasti **NUM**.\n",
    "- Jika kata punya pengulangan (ada tanda '-'), kemungkinan itu **NOUN** jamak.\n",
    "- Jika tidak ada aturan yang cocok, beri label default, misalnya **NOUN** (karena kata benda paling sering muncul)"
   ]
  },
  {
   "cell_type": "code",
   "execution_count": 3,
   "id": "6faa9b54",
   "metadata": {},
   "outputs": [],
   "source": [
    "def simple_rule_based_tagger(sentence):\n",
    "    \"\"\"\n",
    "    Fungsi ini menerima sebuah kalimat (list of words) dan mengembalikan kalimat yang sudah di-tag berdasarkan aturan sederhana.\n",
    "    \"\"\"\n",
    "    tagged_sentence = []\n",
    "    # asumsikan kalimat sudah di-split, contoh: ['Saya', 'belajar', 'data']\n",
    "    for word in sentence:\n",
    "        lower_word = word.lower()\n",
    "        tag = \"NOUN\"  # default rule: anggap semua kata adalah NOUN\n",
    "\n",
    "        # aturan untuk bahasa Inggris\n",
    "        if lower_word.isdigit():\n",
    "            tag = \"NUM\"\n",
    "        # ciri VERB dalam bahasa Inggris berakhiran dengan '-ing' atau '-ed'\n",
    "        elif lower_word.endswith(\"ing\") or lower_word.endswith(\"ed\"):\n",
    "            tag = \"VERB\"\n",
    "\n",
    "        # aturan untuk bahasa Indonesia\n",
    "        elif (\n",
    "            lower_word.startswith(\"me\")\n",
    "            or lower_word.startswith(\"ber\")\n",
    "            or lower_word.startswith(\"di\")\n",
    "        ):\n",
    "            tag = \"VERB\"\n",
    "        elif '-' in lower_word:\n",
    "            tag = \"NOUN\"\n",
    "        \n",
    "        tagged_sentence.append((word, tag))\n",
    "\n",
    "    return tagged_sentence"
   ]
  },
  {
   "cell_type": "code",
   "execution_count": 4,
   "id": "12da8836",
   "metadata": {},
   "outputs": [
    {
     "name": "stdout",
     "output_type": "stream",
     "text": [
      "Kalimat Inggris: He is running and playing\n",
      "Hasil Tagging: [('He', 'NOUN'), ('is', 'NOUN'), ('running', 'VERB'), ('and', 'NOUN'), ('playing', 'VERB')]\n"
     ]
    }
   ],
   "source": [
    "# Uji coba bahasa Inggris\n",
    "english_sentence = \"He is running and playing\"\n",
    "english_sentence_split = english_sentence.split()\n",
    "english_result = simple_rule_based_tagger(english_sentence_split)\n",
    "\n",
    "print(f\"Kalimat Inggris: {english_sentence}\")\n",
    "print(f\"Hasil Tagging: {english_result}\")"
   ]
  },
  {
   "cell_type": "code",
   "execution_count": 5,
   "id": "35011c9c",
   "metadata": {},
   "outputs": [
    {
     "name": "stdout",
     "output_type": "stream",
     "text": [
      "Kalimat Indonesia: Saya membeli buku-buku di toko\n",
      "hasil Tagging: [('Saya', 'NOUN'), ('membeli', 'VERB'), ('buku-buku', 'NOUN'), ('di', 'VERB'), ('toko', 'NOUN')]\n"
     ]
    }
   ],
   "source": [
    "# Uji coba bahasa Indonesia\n",
    "kalimat_indonesia = \"Saya membeli buku-buku di toko\"\n",
    "kalimat_indonesia_split = kalimat_indonesia.split()\n",
    "hasil_indonesia = simple_rule_based_tagger(kalimat_indonesia_split)\n",
    "\n",
    "print(f\"Kalimat Indonesia: {kalimat_indonesia}\")\n",
    "print(f\"hasil Tagging: {hasil_indonesia}\")"
   ]
  }
 ],
 "metadata": {
  "kernelspec": {
   "display_name": ".venv",
   "language": "python",
   "name": "python3"
  },
  "language_info": {
   "codemirror_mode": {
    "name": "ipython",
    "version": 3
   },
   "file_extension": ".py",
   "mimetype": "text/x-python",
   "name": "python",
   "nbconvert_exporter": "python",
   "pygments_lexer": "ipython3",
   "version": "3.11.11"
  }
 },
 "nbformat": 4,
 "nbformat_minor": 5
}
